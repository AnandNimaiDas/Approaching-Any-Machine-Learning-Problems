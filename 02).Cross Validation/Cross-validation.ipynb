{
 "cells": [
  {
   "cell_type": "markdown",
   "metadata": {},
   "source": [
    "# Cross-validation"
   ]
  },
  {
   "cell_type": "code",
   "execution_count": 1,
   "metadata": {},
   "outputs": [],
   "source": [
    "#import scikit-learn tree and metrics\n",
    "from sklearn import tree\n",
    "from sklearn import metrics\n",
    "from sklearn import datasets"
   ]
  },
  {
   "cell_type": "code",
   "execution_count": 2,
   "metadata": {},
   "outputs": [],
   "source": [
    "#Import matplotlib and seaborn\n",
    "import matplotlib \n",
    "import matplotlib.pyplot as plt\n",
    "import seaborn as sns"
   ]
  },
  {
   "cell_type": "code",
   "execution_count": 3,
   "metadata": {},
   "outputs": [],
   "source": [
    "#This is our global size of label text\n",
    "#On the plots\n",
    "matplotlib.rc(\"xtick\",labelsize = 20)\n",
    "matplotlib.rc(\"ytick\",labelsize = 20)"
   ]
  },
  {
   "cell_type": "code",
   "execution_count": 4,
   "metadata": {},
   "outputs": [],
   "source": [
    "import pandas as pd\n",
    "df = pd.read_csv(\"data/winequality-red.csv\", sep=';')"
   ]
  },
  {
   "cell_type": "code",
   "execution_count": 5,
   "metadata": {},
   "outputs": [
    {
     "data": {
      "text/html": [
       "<div>\n",
       "<style scoped>\n",
       "    .dataframe tbody tr th:only-of-type {\n",
       "        vertical-align: middle;\n",
       "    }\n",
       "\n",
       "    .dataframe tbody tr th {\n",
       "        vertical-align: top;\n",
       "    }\n",
       "\n",
       "    .dataframe thead th {\n",
       "        text-align: right;\n",
       "    }\n",
       "</style>\n",
       "<table border=\"1\" class=\"dataframe\">\n",
       "  <thead>\n",
       "    <tr style=\"text-align: right;\">\n",
       "      <th></th>\n",
       "      <th>fixed acidity</th>\n",
       "      <th>volatile acidity</th>\n",
       "      <th>citric acid</th>\n",
       "      <th>residual sugar</th>\n",
       "      <th>chlorides</th>\n",
       "      <th>free sulfur dioxide</th>\n",
       "      <th>total sulfur dioxide</th>\n",
       "      <th>density</th>\n",
       "      <th>pH</th>\n",
       "      <th>sulphates</th>\n",
       "      <th>alcohol</th>\n",
       "      <th>quality</th>\n",
       "    </tr>\n",
       "  </thead>\n",
       "  <tbody>\n",
       "    <tr>\n",
       "      <th>0</th>\n",
       "      <td>7.4</td>\n",
       "      <td>0.70</td>\n",
       "      <td>0.00</td>\n",
       "      <td>1.9</td>\n",
       "      <td>0.076</td>\n",
       "      <td>11.0</td>\n",
       "      <td>34.0</td>\n",
       "      <td>0.9978</td>\n",
       "      <td>3.51</td>\n",
       "      <td>0.56</td>\n",
       "      <td>9.4</td>\n",
       "      <td>5</td>\n",
       "    </tr>\n",
       "    <tr>\n",
       "      <th>1</th>\n",
       "      <td>7.8</td>\n",
       "      <td>0.88</td>\n",
       "      <td>0.00</td>\n",
       "      <td>2.6</td>\n",
       "      <td>0.098</td>\n",
       "      <td>25.0</td>\n",
       "      <td>67.0</td>\n",
       "      <td>0.9968</td>\n",
       "      <td>3.20</td>\n",
       "      <td>0.68</td>\n",
       "      <td>9.8</td>\n",
       "      <td>5</td>\n",
       "    </tr>\n",
       "    <tr>\n",
       "      <th>2</th>\n",
       "      <td>7.8</td>\n",
       "      <td>0.76</td>\n",
       "      <td>0.04</td>\n",
       "      <td>2.3</td>\n",
       "      <td>0.092</td>\n",
       "      <td>15.0</td>\n",
       "      <td>54.0</td>\n",
       "      <td>0.9970</td>\n",
       "      <td>3.26</td>\n",
       "      <td>0.65</td>\n",
       "      <td>9.8</td>\n",
       "      <td>5</td>\n",
       "    </tr>\n",
       "    <tr>\n",
       "      <th>3</th>\n",
       "      <td>11.2</td>\n",
       "      <td>0.28</td>\n",
       "      <td>0.56</td>\n",
       "      <td>1.9</td>\n",
       "      <td>0.075</td>\n",
       "      <td>17.0</td>\n",
       "      <td>60.0</td>\n",
       "      <td>0.9980</td>\n",
       "      <td>3.16</td>\n",
       "      <td>0.58</td>\n",
       "      <td>9.8</td>\n",
       "      <td>6</td>\n",
       "    </tr>\n",
       "    <tr>\n",
       "      <th>4</th>\n",
       "      <td>7.4</td>\n",
       "      <td>0.70</td>\n",
       "      <td>0.00</td>\n",
       "      <td>1.9</td>\n",
       "      <td>0.076</td>\n",
       "      <td>11.0</td>\n",
       "      <td>34.0</td>\n",
       "      <td>0.9978</td>\n",
       "      <td>3.51</td>\n",
       "      <td>0.56</td>\n",
       "      <td>9.4</td>\n",
       "      <td>5</td>\n",
       "    </tr>\n",
       "    <tr>\n",
       "      <th>5</th>\n",
       "      <td>7.4</td>\n",
       "      <td>0.66</td>\n",
       "      <td>0.00</td>\n",
       "      <td>1.8</td>\n",
       "      <td>0.075</td>\n",
       "      <td>13.0</td>\n",
       "      <td>40.0</td>\n",
       "      <td>0.9978</td>\n",
       "      <td>3.51</td>\n",
       "      <td>0.56</td>\n",
       "      <td>9.4</td>\n",
       "      <td>5</td>\n",
       "    </tr>\n",
       "    <tr>\n",
       "      <th>6</th>\n",
       "      <td>7.9</td>\n",
       "      <td>0.60</td>\n",
       "      <td>0.06</td>\n",
       "      <td>1.6</td>\n",
       "      <td>0.069</td>\n",
       "      <td>15.0</td>\n",
       "      <td>59.0</td>\n",
       "      <td>0.9964</td>\n",
       "      <td>3.30</td>\n",
       "      <td>0.46</td>\n",
       "      <td>9.4</td>\n",
       "      <td>5</td>\n",
       "    </tr>\n",
       "    <tr>\n",
       "      <th>7</th>\n",
       "      <td>7.3</td>\n",
       "      <td>0.65</td>\n",
       "      <td>0.00</td>\n",
       "      <td>1.2</td>\n",
       "      <td>0.065</td>\n",
       "      <td>15.0</td>\n",
       "      <td>21.0</td>\n",
       "      <td>0.9946</td>\n",
       "      <td>3.39</td>\n",
       "      <td>0.47</td>\n",
       "      <td>10.0</td>\n",
       "      <td>7</td>\n",
       "    </tr>\n",
       "    <tr>\n",
       "      <th>8</th>\n",
       "      <td>7.8</td>\n",
       "      <td>0.58</td>\n",
       "      <td>0.02</td>\n",
       "      <td>2.0</td>\n",
       "      <td>0.073</td>\n",
       "      <td>9.0</td>\n",
       "      <td>18.0</td>\n",
       "      <td>0.9968</td>\n",
       "      <td>3.36</td>\n",
       "      <td>0.57</td>\n",
       "      <td>9.5</td>\n",
       "      <td>7</td>\n",
       "    </tr>\n",
       "    <tr>\n",
       "      <th>9</th>\n",
       "      <td>7.5</td>\n",
       "      <td>0.50</td>\n",
       "      <td>0.36</td>\n",
       "      <td>6.1</td>\n",
       "      <td>0.071</td>\n",
       "      <td>17.0</td>\n",
       "      <td>102.0</td>\n",
       "      <td>0.9978</td>\n",
       "      <td>3.35</td>\n",
       "      <td>0.80</td>\n",
       "      <td>10.5</td>\n",
       "      <td>5</td>\n",
       "    </tr>\n",
       "  </tbody>\n",
       "</table>\n",
       "</div>"
      ],
      "text/plain": [
       "   fixed acidity  volatile acidity  citric acid  residual sugar  chlorides  \\\n",
       "0            7.4              0.70         0.00             1.9      0.076   \n",
       "1            7.8              0.88         0.00             2.6      0.098   \n",
       "2            7.8              0.76         0.04             2.3      0.092   \n",
       "3           11.2              0.28         0.56             1.9      0.075   \n",
       "4            7.4              0.70         0.00             1.9      0.076   \n",
       "5            7.4              0.66         0.00             1.8      0.075   \n",
       "6            7.9              0.60         0.06             1.6      0.069   \n",
       "7            7.3              0.65         0.00             1.2      0.065   \n",
       "8            7.8              0.58         0.02             2.0      0.073   \n",
       "9            7.5              0.50         0.36             6.1      0.071   \n",
       "\n",
       "   free sulfur dioxide  total sulfur dioxide  density    pH  sulphates  \\\n",
       "0                 11.0                  34.0   0.9978  3.51       0.56   \n",
       "1                 25.0                  67.0   0.9968  3.20       0.68   \n",
       "2                 15.0                  54.0   0.9970  3.26       0.65   \n",
       "3                 17.0                  60.0   0.9980  3.16       0.58   \n",
       "4                 11.0                  34.0   0.9978  3.51       0.56   \n",
       "5                 13.0                  40.0   0.9978  3.51       0.56   \n",
       "6                 15.0                  59.0   0.9964  3.30       0.46   \n",
       "7                 15.0                  21.0   0.9946  3.39       0.47   \n",
       "8                  9.0                  18.0   0.9968  3.36       0.57   \n",
       "9                 17.0                 102.0   0.9978  3.35       0.80   \n",
       "\n",
       "   alcohol  quality  \n",
       "0      9.4        5  \n",
       "1      9.8        5  \n",
       "2      9.8        5  \n",
       "3      9.8        6  \n",
       "4      9.4        5  \n",
       "5      9.4        5  \n",
       "6      9.4        5  \n",
       "7     10.0        7  \n",
       "8      9.5        7  \n",
       "9     10.5        5  "
      ]
     },
     "execution_count": 5,
     "metadata": {},
     "output_type": "execute_result"
    }
   ],
   "source": [
    "df.head(10)"
   ]
  },
  {
   "cell_type": "code",
   "execution_count": 6,
   "metadata": {},
   "outputs": [],
   "source": [
    "#a mapping dictionary that maps the quality values from0 to 5\n",
    "quality_mapping = {\n",
    "    3:0,\n",
    "    4:1,\n",
    "    5:2,\n",
    "    6:3,\n",
    "    7:4,\n",
    "    8:5\n",
    "}\n",
    "\n",
    "#You can use the map function of pandas with\n",
    "#any directory to convert the values in a given\n",
    "#column to values in the directory\n",
    "df.loc[:,\"quality\"] = df.quality.map(quality_mapping)"
   ]
  },
  {
   "cell_type": "markdown",
   "metadata": {},
   "source": [
    "### 1).Hold-Out Cross validation"
   ]
  },
  {
   "cell_type": "code",
   "execution_count": 27,
   "metadata": {},
   "outputs": [],
   "source": [
    "#use sample with frac=1 to shuffle the dataframe\n",
    "#we reset the indices since they change after\n",
    "#shuffling the dataframe\n",
    "df = df.sample(frac = 1).reset_index(drop = True)\n",
    "\n",
    "\n",
    "#Top 1000 rows are selected for training \n",
    "df_train  = df.head(1000)\n",
    "\n",
    "#bottom 599 values are selected for testing/validation\n",
    "df_test = df.tail(599)"
   ]
  },
  {
   "cell_type": "code",
   "execution_count": 28,
   "metadata": {},
   "outputs": [],
   "source": [
    "\n",
    "def accuracy_cal(df_train,df_test,depth):\n",
    "\n",
    "    \"\"\"\n",
    "parameters:\n",
    "df_train : the data to train the decisionTreeClassifier model\n",
    "\n",
    "df_test: the data to test the decisionTreeClassifier model\n",
    "\n",
    "depth: define the depth of the tree.\n",
    "\n",
    "\n",
    "return :\n",
    "accuracy of test and training dataset\n",
    "    \"\"\"    \n",
    "    \n",
    "\n",
    "    #init the model\n",
    "    clf = tree.DecisionTreeClassifier(max_depth = depth)\n",
    "    \n",
    "    #columns/features for training\n",
    "    #note that, this can be done outside\n",
    "    #the loop\n",
    "    cols = [\n",
    "        \"fixed acidity\",\n",
    "        \"volatile acidity\",\n",
    "        \"citric acid\",\n",
    "        \"residual sugar\",\n",
    "        \"chlorides\",\n",
    "        \"free sulfur dioxide\",\n",
    "        \"total sulfur dioxide\",\n",
    "        \"density\",\n",
    "        \"pH\",\n",
    "        \"sulphates\",\n",
    "        \"alcohol\"\n",
    "    ]\n",
    "    \n",
    "    #fit the model on given features\n",
    "    clf.fit(df_train[cols], df_train.quality)\n",
    "    \n",
    "    #create training and test preditions\n",
    "    train_predictions = clf.predict(df_train[cols])\n",
    "    test_predictions = clf.predict(df_test[cols])\n",
    "    \n",
    "    #calculate training and test accuracies\n",
    "    train_accuracy = metrics.accuracy_score(df_train.quality , train_predictions)\n",
    "    \n",
    "    test_accuracy = metrics.accuracy_score(df_test.quality, test_predictions)\n",
    "    \n",
    "    \n",
    "        \n",
    "    return (train_accuracy,test_accuracy)\n",
    "    \n",
    "    "
   ]
  },
  {
   "cell_type": "code",
   "execution_count": 29,
   "metadata": {},
   "outputs": [],
   "source": [
    "#create two plots using matplotlib and seaborn \n",
    "def display(train_accuracies, test_accuracies):\n",
    "    \n",
    "    \"\"\"\n",
    "parameters:\n",
    "\n",
    "train_accuracies : contain the accuracy of train data using decision tree model.\n",
    "\n",
    "test_accuracies : contain the accuracy of the test data using decision tree model.\n",
    "\n",
    "    \"\"\"    \n",
    "    \n",
    "    plt.figure(figsize = (10,5))\n",
    "    sns.set_style(\"whitegrid\")\n",
    "    plt.plot(train_accuracies , label = \"train accuracy\")\n",
    "    plt.plot(test_accuracies , label = \"test accuracy\")\n",
    "    plt.legend(loc = \"upper left\" , prop = {\"size\" : 15})\n",
    "    plt.xticks(range(0,26,5))\n",
    "    plt.xlabel(\"max depth\",size = 2)\n",
    "    plt.ylabel(\"accuracy\",size= 20)\n",
    "    plt.show()"
   ]
  },
  {
   "cell_type": "code",
   "execution_count": 30,
   "metadata": {},
   "outputs": [
    {
     "data": {
      "image/png": "[encoded data removed]",
      "text/plain": [
       "<Figure size 720x360 with 1 Axes>"
      ]
     },
     "metadata": {},
     "output_type": "display_data"
    }
   ],
   "source": [
    "train_accuracies = [0.5]\n",
    "test_accuracies = [0.5]\n",
    "for depth in range(1,25):\n",
    "    \n",
    "    train_accuracy,test_accuracy = accuracy_cal(df_train,df_test,depth)\n",
    "    train_accuracies.append(train_accuracy)\n",
    "    test_accuracies.append(test_accuracy)\n",
    "    \n",
    "display(train_accuracies, test_accuracies)\n",
    "    \n",
    "    "
   ]
  },
  {
   "cell_type": "markdown",
   "metadata": {},
   "source": [
    "**The graph we optained is because of the cross validation hold-outmethod. The test accuracy is not that good so we try another cross validation.** "
   ]
  },
  {
   "cell_type": "markdown",
   "metadata": {},
   "source": [
    "### 2).K-fold Cross Validation"
   ]
  },
  {
   "cell_type": "code",
   "execution_count": 43,
   "metadata": {},
   "outputs": [],
   "source": [
    "#import model_selection module of scikit-learn\n",
    "from sklearn import model_selection\n",
    "\n",
    "if __name__ == \"__main__\" :\n",
    "    \n",
    "    \n",
    "    #we create a new column called kfold and fill it with -1\n",
    "    df[\"kfold\"] = -1\n",
    "    \n",
    "    #the next step is to randomize the rows of the data\n",
    "    df = df.sample(frac = 1).reset_index(drop = True)\n",
    "    \n",
    "    #initiate the kfold class from model_selection module\n",
    "    kf = model_selection.KFold(n_splits = 5)\n",
    "    \n",
    "    #fill the new kfold column\n",
    "    for fold, (trn_,val_) in enumerate(kf.split(X = df)):\n",
    "        df.loc[val_,\"kfold\"]  = fold \n",
    "        \n",
    "    \n",
    "    #save the new with kfold column\n",
    "    df.to_csv(\"train_folds.csv\" , index = False)"
   ]
  },
  {
   "cell_type": "code",
   "execution_count": 44,
   "metadata": {},
   "outputs": [],
   "source": [
    "k_fold_df  = pd.read_csv(\"train_folds.csv\")"
   ]
  },
  {
   "cell_type": "code",
   "execution_count": 45,
   "metadata": {},
   "outputs": [
    {
     "data": {
      "text/html": [
       "<div>\n",
       "<style scoped>\n",
       "    .dataframe tbody tr th:only-of-type {\n",
       "        vertical-align: middle;\n",
       "    }\n",
       "\n",
       "    .dataframe tbody tr th {\n",
       "        vertical-align: top;\n",
       "    }\n",
       "\n",
       "    .dataframe thead th {\n",
       "        text-align: right;\n",
       "    }\n",
       "</style>\n",
       "<table border=\"1\" class=\"dataframe\">\n",
       "  <thead>\n",
       "    <tr style=\"text-align: right;\">\n",
       "      <th></th>\n",
       "      <th>fixed acidity</th>\n",
       "      <th>volatile acidity</th>\n",
       "      <th>citric acid</th>\n",
       "      <th>residual sugar</th>\n",
       "      <th>chlorides</th>\n",
       "      <th>free sulfur dioxide</th>\n",
       "      <th>total sulfur dioxide</th>\n",
       "      <th>density</th>\n",
       "      <th>pH</th>\n",
       "      <th>sulphates</th>\n",
       "      <th>alcohol</th>\n",
       "      <th>quality</th>\n",
       "      <th>kfold</th>\n",
       "    </tr>\n",
       "  </thead>\n",
       "  <tbody>\n",
       "    <tr>\n",
       "      <th>0</th>\n",
       "      <td>9.3</td>\n",
       "      <td>0.33</td>\n",
       "      <td>0.45</td>\n",
       "      <td>1.5</td>\n",
       "      <td>0.057</td>\n",
       "      <td>19.0</td>\n",
       "      <td>37.0</td>\n",
       "      <td>0.99498</td>\n",
       "      <td>3.18</td>\n",
       "      <td>0.89</td>\n",
       "      <td>11.1</td>\n",
       "      <td>4</td>\n",
       "      <td>0</td>\n",
       "    </tr>\n",
       "    <tr>\n",
       "      <th>1</th>\n",
       "      <td>7.7</td>\n",
       "      <td>0.96</td>\n",
       "      <td>0.20</td>\n",
       "      <td>2.0</td>\n",
       "      <td>0.047</td>\n",
       "      <td>15.0</td>\n",
       "      <td>60.0</td>\n",
       "      <td>0.99550</td>\n",
       "      <td>3.36</td>\n",
       "      <td>0.44</td>\n",
       "      <td>10.9</td>\n",
       "      <td>2</td>\n",
       "      <td>0</td>\n",
       "    </tr>\n",
       "    <tr>\n",
       "      <th>2</th>\n",
       "      <td>11.1</td>\n",
       "      <td>0.45</td>\n",
       "      <td>0.73</td>\n",
       "      <td>3.2</td>\n",
       "      <td>0.066</td>\n",
       "      <td>6.0</td>\n",
       "      <td>22.0</td>\n",
       "      <td>0.99860</td>\n",
       "      <td>3.17</td>\n",
       "      <td>0.66</td>\n",
       "      <td>11.2</td>\n",
       "      <td>3</td>\n",
       "      <td>0</td>\n",
       "    </tr>\n",
       "    <tr>\n",
       "      <th>3</th>\n",
       "      <td>13.0</td>\n",
       "      <td>0.32</td>\n",
       "      <td>0.65</td>\n",
       "      <td>2.6</td>\n",
       "      <td>0.093</td>\n",
       "      <td>15.0</td>\n",
       "      <td>47.0</td>\n",
       "      <td>0.99960</td>\n",
       "      <td>3.05</td>\n",
       "      <td>0.61</td>\n",
       "      <td>10.6</td>\n",
       "      <td>2</td>\n",
       "      <td>0</td>\n",
       "    </tr>\n",
       "    <tr>\n",
       "      <th>4</th>\n",
       "      <td>8.1</td>\n",
       "      <td>0.87</td>\n",
       "      <td>0.00</td>\n",
       "      <td>2.2</td>\n",
       "      <td>0.084</td>\n",
       "      <td>10.0</td>\n",
       "      <td>31.0</td>\n",
       "      <td>0.99656</td>\n",
       "      <td>3.25</td>\n",
       "      <td>0.50</td>\n",
       "      <td>9.8</td>\n",
       "      <td>2</td>\n",
       "      <td>0</td>\n",
       "    </tr>\n",
       "  </tbody>\n",
       "</table>\n",
       "</div>"
      ],
      "text/plain": [
       "   fixed acidity  volatile acidity  citric acid  residual sugar  chlorides  \\\n",
       "0            9.3              0.33         0.45             1.5      0.057   \n",
       "1            7.7              0.96         0.20             2.0      0.047   \n",
       "2           11.1              0.45         0.73             3.2      0.066   \n",
       "3           13.0              0.32         0.65             2.6      0.093   \n",
       "4            8.1              0.87         0.00             2.2      0.084   \n",
       "\n",
       "   free sulfur dioxide  total sulfur dioxide  density    pH  sulphates  \\\n",
       "0                 19.0                  37.0  0.99498  3.18       0.89   \n",
       "1                 15.0                  60.0  0.99550  3.36       0.44   \n",
       "2                  6.0                  22.0  0.99860  3.17       0.66   \n",
       "3                 15.0                  47.0  0.99960  3.05       0.61   \n",
       "4                 10.0                  31.0  0.99656  3.25       0.50   \n",
       "\n",
       "   alcohol  quality  kfold  \n",
       "0     11.1        4      0  \n",
       "1     10.9        2      0  \n",
       "2     11.2        3      0  \n",
       "3     10.6        2      0  \n",
       "4      9.8        2      0  "
      ]
     },
     "execution_count": 45,
     "metadata": {},
     "output_type": "execute_result"
    }
   ],
   "source": [
    "k_fold_df.head()"
   ]
  },
  {
   "cell_type": "code",
   "execution_count": 46,
   "metadata": {},
   "outputs": [],
   "source": [
    "import numpy as np"
   ]
  },
  {
   "cell_type": "code",
   "execution_count": 51,
   "metadata": {},
   "outputs": [
    {
     "data": {
      "image/png": "[encoded data removed]",
      "text/plain": [
       "<Figure size 720x360 with 1 Axes>"
      ]
     },
     "metadata": {},
     "output_type": "display_data"
    }
   ],
   "source": [
    "train_accuracies = [0.5]\n",
    "test_accuracies = [0.5]\n",
    "for depth in range(1,25):\n",
    "    \n",
    "    for i in range(5):\n",
    "        \n",
    "        train_sum = []\n",
    "        test_sum = []\n",
    "        \n",
    "        df_test = k_fold_df[k_fold_df[\"kfold\"] == i]\n",
    "        df_train = k_fold_df[k_fold_df[\"kfold\"] != i]\n",
    "        \n",
    "        train_accuracy,test_accuracy = accuracy_cal(df_train,df_test,depth)\n",
    "        train_sum.append(train_accuracy)\n",
    "        test_sum.append(test_accuracy)\n",
    "        \n",
    "        \n",
    "    train_accuracies.append(np.mean(train_sum))\n",
    "    test_accuracies.append(np.mean(test_sum))\n",
    "     \n",
    "\n",
    "display(train_accuracies, test_accuracies)"
   ]
  },
  {
   "cell_type": "markdown",
   "metadata": {},
   "source": [
    "**The above graph obtained by following k-fold cross validation. Test accuracy is not that good but it is better than hold out cross validation accuracy. Let us try another cross validation method.**"
   ]
  },
  {
   "cell_type": "code",
   "execution_count": 17,
   "metadata": {},
   "outputs": [
    {
     "data": {
      "text/plain": [
       "Text(0, 0.5, 'count')"
      ]
     },
     "execution_count": 17,
     "metadata": {},
     "output_type": "execute_result"
    },
    {
     "data": {
      "image/png": "[encoded data removed]",
      "text/plain": [
       "<Figure size 432x288 with 1 Axes>"
      ]
     },
     "metadata": {},
     "output_type": "display_data"
    }
   ],
   "source": [
    "b = sns.countplot(x = \"quality\",data = df)\n",
    "b.set_xlabel(\"quantity\",fontsize = 20)\n",
    "b.set_ylabel(\"count\",fontsize = 20)"
   ]
  },
  {
   "cell_type": "markdown",
   "metadata": {},
   "source": [
    "**The figure show that the quality of the wine is very much skewed. Some classes have lot of sample but other don't have that many. If we do simple k-fold, we won't have an equal distribution of the targets in every fold. Thus, we chooose stratified k-fold in this case.**"
   ]
  },
  {
   "cell_type": "markdown",
   "metadata": {},
   "source": [
    "### 3).Stratifed k-fold "
   ]
  },
  {
   "cell_type": "code",
   "execution_count": 40,
   "metadata": {},
   "outputs": [],
   "source": [
    "#import model_selection module of scikit-learn\n",
    "from sklearn import model_selection\n",
    "\n",
    "if __name__ == \"__main__\" :\n",
    "    \n",
    "    \n",
    "    #we create a new column called kfold and fill it with -1\n",
    "    df[\"kfold\"] = -1\n",
    "    \n",
    "    #the next step is to randomize the rows of the data\n",
    "    df = df.sample(frac = 1).reset_index(drop = True)\n",
    "    \n",
    "    #fetch targets \n",
    "    y = df.quality.values\n",
    "    \n",
    "    #initiate the kfold class from model_selection module\n",
    "    kf = model_selection.StratifiedKFold(n_splits = 5)\n",
    "    \n",
    "    #fill the new kfold column\n",
    "    for fold, (t_,v_) in enumerate(kf.split(X = df,y = y)):\n",
    "        df.loc[v_,\"kfold\"]  = fold \n",
    "        \n",
    "    \n",
    "    #save the new with kfold column\n",
    "    df.to_csv(\"train_sfolds.csv\" , index = False)"
   ]
  },
  {
   "cell_type": "code",
   "execution_count": 41,
   "metadata": {},
   "outputs": [],
   "source": [
    "sk_fold_df  = pd.read_csv(\"train_sfolds.csv\")"
   ]
  },
  {
   "cell_type": "code",
   "execution_count": 42,
   "metadata": {},
   "outputs": [
    {
     "data": {
      "image/png": "[encoded data removed]",
      "text/plain": [
       "<Figure size 720x360 with 1 Axes>"
      ]
     },
     "metadata": {},
     "output_type": "display_data"
    }
   ],
   "source": [
    "train_accuracies = [0.5]\n",
    "test_accuracies = [0.5]\n",
    "for depth in range(1,25):\n",
    "    \n",
    "    for i in range(5):\n",
    "        \n",
    "        train_sum = []\n",
    "        test_sum = []\n",
    "        \n",
    "        df_test = sk_fold_df[sk_fold_df[\"kfold\"] == i]\n",
    "        df_train = sk_fold_df[sk_fold_df[\"kfold\"] != i]\n",
    "        \n",
    "        train_accuracy,test_accuracy = accuracy_cal(df_train,df_test,depth)\n",
    "        train_sum.append(train_accuracy)\n",
    "        test_sum.append(test_accuracy)\n",
    "        \n",
    "        \n",
    "    train_accuracies.append(np.mean(train_sum))\n",
    "    test_accuracies.append(np.mean(test_sum))\n",
    "     \n",
    "\n",
    "display(train_accuracies, test_accuracies)"
   ]
  },
  {
   "cell_type": "markdown",
   "metadata": {},
   "source": [
    "~We can see that stratifed k-fold is better than hold out but almost same as k-fold cause test accuracy seems to get better. But this accuracy can be improved by applying another method of feature engineering."
   ]
  },
  {
   "cell_type": "markdown",
   "metadata": {},
   "source": [
    "ShubhangiDabral13..."
   ]
  }
 ],
 "metadata": {
  "kernelspec": {
   "display_name": "Python 3",
   "language": "python",
   "name": "python3"
  },
  "language_info": {
   "codemirror_mode": {
    "name": "ipython",
    "version": 3
   },
   "file_extension": ".py",
   "mimetype": "text/x-python",
   "name": "python",
   "nbconvert_exporter": "python",
   "pygments_lexer": "ipython3",
   "version": "3.7.1"
  }
 },
 "nbformat": 4,
 "nbformat_minor": 2
}
