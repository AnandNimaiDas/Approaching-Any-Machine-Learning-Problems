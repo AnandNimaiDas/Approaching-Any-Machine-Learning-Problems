{
 "cells": [
  {
   "cell_type": "markdown",
   "metadata": {},
   "source": [
    "# Evalution Metrics\n",
    "\n",
    "## Classification problems metrics are:\n",
    " \n",
    "   * Accuracy \n",
    "   * Precision(P)\n",
    "   * Recall(R)\n",
    "   * F1 score(F1)\n",
    "   * AUC \n",
    "   * Log loss\n",
    "   * Precision at k\n",
    "   * Average precision at k\n",
    "   * Mean average precision at k\n",
    "   \n",
    "  \n",
    "## Regression problems evaluation metrics :\n",
    "\n",
    "   * Mean absolute error\n",
    "   * Mean squared error\n",
    "   * Root mean squared error\n",
    "   * Root mean squared logarithmic error\n",
    "   * Mean percentage error\n",
    "   * Mean absolute percentage error\n",
    "   \n",
    "But here we will look into evalutation metrics for Classification problems.\n",
    " \n",
    "\n",
    "**When we have an equal number of positive and negative samples in a binary classification metric, we generally use accuracy, precision, recall and f1.**\n",
    " \n",
    " \n",
    " ### Accuracy : \n",
    " It is one of the most straightforward metrics used in machine learning. It defines how accurate your model is. \n",
    " \n",
    " CODE FOR CALCULATING ACCURACY IS:"
   ]
  },
  {
   "cell_type": "code",
   "execution_count": 1,
   "metadata": {},
   "outputs": [],
   "source": [
    "def accuracy(y_true,y_pred):\n",
    "    \n",
    "    \"\"\"\n",
    "    param y_true : list of true values.\n",
    "    param y_pred : list of predicted values.\n",
    "    \"\"\"\n",
    "    \n",
    "    #initalizing simple counter to count correct predictions.\n",
    "    count_val = 0\n",
    "    for i, j in zip(y_true,y_pred):\n",
    "        \n",
    "        if i == j:\n",
    "            #if predicted value is equal to the true value then we will increase the counter by one.\n",
    "            count_val += 1\n",
    "            \n",
    "    #return accuracy\n",
    "    #which is correct predictions over the number of samples\n",
    "    return count_val / len(y_true)\n",
    "            "
   ]
  },
  {
   "cell_type": "code",
   "execution_count": 2,
   "metadata": {},
   "outputs": [
    {
     "name": "stdout",
     "output_type": "stream",
     "text": [
      "0.625\n"
     ]
    },
    {
     "data": {
      "text/plain": [
       "0.625"
      ]
     },
     "execution_count": 2,
     "metadata": {},
     "output_type": "execute_result"
    }
   ],
   "source": [
    "from sklearn import metrics\n",
    "\n",
    "l1 = [0,1,1,1,0,0,0,1]\n",
    "l2 = [0,1,0,1,0,1,0,0]\n",
    "\n",
    "\n",
    "print(accuracy(l1,l2))\n",
    "\n",
    "#sklearn function to calculate  accuracy \n",
    "metrics.accuracy_score(l1,l2)"
   ]
  },
  {
   "cell_type": "markdown",
   "metadata": {},
   "source": [
    "**If we have skewed dataset then it's better to use precision evalutation metrices rather than accuracy.**\n",
    "\n",
    "\n",
    "### Precision :\n",
    "\n",
    "before diving into it let's make some clear in our head.\n",
    "\n",
    "* **True Positive(TP)** : If our model correctly predict positive class it is true positive. \n",
    "\n",
    "* **True Negative(TN)** : if our model correctly predict negative class it is true negative.\n",
    "\n",
    "* **False Positive(FP)** : if your model incorrectly(or falsely) predict positive class,  it it a false positive.\n",
    "\n",
    "* **False Negative(FN)** : if your model incorrectly(or falsely) predict negative class,  it is false negative.\n",
    "\n",
    "\n",
    "CODE TO CALCULATE TP,TN,FP AND FN."
   ]
  },
  {
   "cell_type": "code",
   "execution_count": 3,
   "metadata": {},
   "outputs": [],
   "source": [
    "#function to calculate true positive.\n",
    "def true_positive(y_true,y_pred):\n",
    "    \"\"\"\n",
    "    param y_true = list of true values\n",
    "    param y_pred = list of predicted values\n",
    "    return : number of true positive\n",
    "    \"\"\"\n",
    "    \n",
    "    #initalize \n",
    "    tp = 0\n",
    "    for yt, yp in zip(y_true , y_pred):\n",
    "        if yt == 1 and yp == 1:\n",
    "            tp += 1\n",
    "        \n",
    "    \n",
    "    return tp\n"
   ]
  },
  {
   "cell_type": "code",
   "execution_count": 4,
   "metadata": {},
   "outputs": [],
   "source": [
    "#Function to calculate true negative\n",
    "def true_negative(y_true,y_pred):\n",
    "    \"\"\"\n",
    "    param y_true = list of true values\n",
    "    param y_pred = list of predicted values\n",
    "    return : number of true negative\n",
    "    \"\"\"\n",
    "    \n",
    "    #initalize \n",
    "    tn = 0\n",
    "    for yt, yp in zip(y_true , y_pred):\n",
    "        \n",
    "        if yt == 0  and yp == 0:\n",
    "            \n",
    "            tn += 1\n",
    "        \n",
    "    \n",
    "    return tn"
   ]
  },
  {
   "cell_type": "code",
   "execution_count": 5,
   "metadata": {},
   "outputs": [],
   "source": [
    "#Function to calculate true negative\n",
    "def false_positive(y_true,y_pred):\n",
    "    \"\"\"\n",
    "    param y_true = list of true values\n",
    "    param y_pred = list of predicted values\n",
    "    return : number of false positive\n",
    "    \"\"\"\n",
    "    \n",
    "    #initalize \n",
    "    fp = 0\n",
    "    for yt, yp in zip(y_true , y_pred):\n",
    "        \n",
    "        if yt == 0  and yp == 1:\n",
    "            \n",
    "            fp += 1\n",
    "        \n",
    "    \n",
    "    return fp"
   ]
  },
  {
   "cell_type": "code",
   "execution_count": 6,
   "metadata": {},
   "outputs": [],
   "source": [
    "#Function to calculate true negative\n",
    "def false_negative(y_true,y_pred):\n",
    "    \"\"\"\n",
    "    param y_true = list of true values\n",
    "    param y_pred = list of predicted values\n",
    "    return : number of false negative\n",
    "    \"\"\"\n",
    "    \n",
    "    #initalize \n",
    "    fn = 0\n",
    "    for yt, yp in zip(y_true , y_pred):\n",
    "        \n",
    "        if yt == 1  and yp == 0:\n",
    "            \n",
    "            fn += 1\n",
    "        \n",
    "    \n",
    "    return fn"
   ]
  },
  {
   "cell_type": "code",
   "execution_count": 7,
   "metadata": {},
   "outputs": [
    {
     "data": {
      "text/plain": [
       "2"
      ]
     },
     "execution_count": 7,
     "metadata": {},
     "output_type": "execute_result"
    }
   ],
   "source": [
    "l1 = [0,1,1,1,0,0,0,1]\n",
    "l2 = [0,1,0,1,0,1,0,0]\n",
    "\n",
    "true_positive(l1, l2)"
   ]
  },
  {
   "cell_type": "code",
   "execution_count": 8,
   "metadata": {},
   "outputs": [
    {
     "data": {
      "text/plain": [
       "1"
      ]
     },
     "execution_count": 8,
     "metadata": {},
     "output_type": "execute_result"
    }
   ],
   "source": [
    "false_positive(l1,l2)"
   ]
  },
  {
   "cell_type": "code",
   "execution_count": 9,
   "metadata": {},
   "outputs": [
    {
     "data": {
      "text/plain": [
       "2"
      ]
     },
     "execution_count": 9,
     "metadata": {},
     "output_type": "execute_result"
    }
   ],
   "source": [
    "false_negative(l1,l2)\n"
   ]
  },
  {
   "cell_type": "code",
   "execution_count": 10,
   "metadata": {},
   "outputs": [
    {
     "data": {
      "text/plain": [
       "3"
      ]
     },
     "execution_count": 10,
     "metadata": {},
     "output_type": "execute_result"
    }
   ],
   "source": [
    "true_negative(l1,l2)"
   ]
  },
  {
   "cell_type": "markdown",
   "metadata": {},
   "source": [
    "If we define accuracy using the term above then we get :\n",
    "\n",
    "   **Accuracy Score = (TP + TN)/(TP + TN + FP +FN**"
   ]
  },
  {
   "cell_type": "code",
   "execution_count": 11,
   "metadata": {},
   "outputs": [],
   "source": [
    "def accuracy_v2(y_true,y_pred):\n",
    "    \"\"\"\n",
    "    Function to calculate accuracy using tp/tn/fp/fn\n",
    "    param y_true: list of true values\n",
    "    param y_pred: list of predicted values\n",
    "    return: accuracy score\n",
    "    \"\"\"\n",
    "    \n",
    "    tp = true_positive(y_true,y_pred)\n",
    "    tn = true_negative(y_true,y_pred)\n",
    "    fp = false_positive(y_true,y_pred)\n",
    "    fn = false_negative(y_true,y_pred)\n",
    "    \n",
    "    accuracy_score = (tn + tp)/(tn + tp + fp + fn)\n",
    "    \n",
    "    return accuracy_score\n",
    "    "
   ]
  },
  {
   "cell_type": "code",
   "execution_count": 12,
   "metadata": {},
   "outputs": [
    {
     "name": "stdout",
     "output_type": "stream",
     "text": [
      "0.625\n",
      "0.625\n"
     ]
    },
    {
     "data": {
      "text/plain": [
       "0.625"
      ]
     },
     "execution_count": 12,
     "metadata": {},
     "output_type": "execute_result"
    }
   ],
   "source": [
    "l1 = [0,1,1,1,0,0,0,1]\n",
    "l2 = [0,1,0,1,0,1,0,0]\n",
    "\n",
    "\n",
    "#by using starting accuracy function\n",
    "print(accuracy(l1,l2))\n",
    "\n",
    "print(accuracy_v2(l1,l2))\n",
    "\n",
    "metrics.accuracy_score(l1,l2)\n"
   ]
  },
  {
   "cell_type": "markdown",
   "metadata": {},
   "source": [
    "~All the value are same this means we made no mistake up to here."
   ]
  },
  {
   "cell_type": "markdown",
   "metadata": {},
   "source": [
    "### Precision Definition :\n",
    "\n",
    " **Precision = TP/(TP + FP)**\n",
    " \n",
    " Lets take an example : \n",
    " - TP : 8\n",
    " - TN : 80\n",
    " - FP : 10\n",
    " - FN : 2\n",
    " \n",
    " \n",
    "PRECISION = 8/(8 + 10) = 0.44.\n",
    "This means our model is correct 44.4% times when it's try to identify posititve samples.\n",
    "\n",
    "\n",
    "CODE TO CALCULATE PRECISION"
   ]
  },
  {
   "cell_type": "code",
   "execution_count": 13,
   "metadata": {},
   "outputs": [],
   "source": [
    "#Function to calculate precision\n",
    "\n",
    "def precision(y_true,y_pred):\n",
    "    \"\"\"\n",
    "    param y_true: list of true values\n",
    "    param y_pred: list of predicted values\n",
    "    return: precision\n",
    "    \"\"\"\n",
    "    \n",
    "    tp = true_positive(y_true,y_pred)\n",
    "    fp = false_positive(y_true,y_pred)\n",
    "    \n",
    "    precision = (tp)/(tp + fp)\n",
    "    \n",
    "    return precision"
   ]
  },
  {
   "cell_type": "code",
   "execution_count": 14,
   "metadata": {},
   "outputs": [
    {
     "data": {
      "text/plain": [
       "0.6666666666666666"
      ]
     },
     "execution_count": 14,
     "metadata": {},
     "output_type": "execute_result"
    }
   ],
   "source": [
    "l1 = [0,1,1,1,0,0,0,1]\n",
    "l2 = [0,1,0,1,0,1,0,0]\n",
    "\n",
    "\n",
    "precision(l1,l2)"
   ]
  },
  {
   "cell_type": "markdown",
   "metadata": {},
   "source": [
    "### Recall:\n",
    "\n",
    "**Recall = TP/(TP + FN)**\n",
    "\n",
    "\n",
    "Lets take an example : \n",
    " - TP : 8\n",
    " - TN : 80\n",
    " - FP : 10\n",
    " - FN : 2\n",
    " \n",
    " \n",
    "Recall = 8/(8 + 2) = 0.80.\n",
    "This means our model identified 80% of posititve samples correctly.\n",
    "\n",
    "\n",
    "\n",
    "CODE TO CALCULATE RECALL"
   ]
  },
  {
   "cell_type": "code",
   "execution_count": 15,
   "metadata": {},
   "outputs": [],
   "source": [
    "#Function to calculate precision\n",
    "\n",
    "def recall(y_true,y_pred):\n",
    "    \"\"\"\n",
    "    param y_true: list of true values\n",
    "    param y_pred: list of predicted values\n",
    "    return: recall\n",
    "    \"\"\"\n",
    "    \n",
    "    tp = true_positive(y_true,y_pred)\n",
    "    fn = false_negative(y_true,y_pred)\n",
    "    \n",
    "    recall = (tp)/(tp + fn)\n",
    "    \n",
    "    return recall"
   ]
  },
  {
   "cell_type": "code",
   "execution_count": 16,
   "metadata": {},
   "outputs": [
    {
     "data": {
      "text/plain": [
       "0.5"
      ]
     },
     "execution_count": 16,
     "metadata": {},
     "output_type": "execute_result"
    }
   ],
   "source": [
    "l1 = [0,1,1,1,0,0,0,1]\n",
    "l2 = [0,1,0,1,0,1,0,0]\n",
    "\n",
    "\n",
    "recall(l1,l2)"
   ]
  },
  {
   "cell_type": "code",
   "execution_count": 17,
   "metadata": {},
   "outputs": [],
   "source": [
    "y_true = [0,0,0,1,0,0,0,0,0,0,1,0,0,0,0,0,0,0,1,0]\n",
    "\n",
    "y_pred = [.02638412, 0.11114267, 0.31620708, \n",
    "0.0490937, 0.0191491, 0.17554844, \n",
    "0.15952202, 0.03819563, 0.11639273, \n",
    "0.079377, 0.08584789, 0.39095342, \n",
    "0.27259048, 0.03447096, 0.04644807, \n",
    "0.03543574, 0.18521942, 0.05934905, \n",
    "0.61977213, 0.33056815]"
   ]
  },
  {
   "cell_type": "markdown",
   "metadata": {},
   "source": [
    "#### Creating a precision recall curve"
   ]
  },
  {
   "cell_type": "code",
   "execution_count": 18,
   "metadata": {},
   "outputs": [],
   "source": [
    "precisions = []\n",
    "recalls = []\n",
    "#how we assumed these threshold is a long story\n",
    "\n",
    "thresholds = [0.0490937, 0.05934905, 0.079377,\n",
    "              0.08584789, 0.11114267, 0.11639273, \n",
    "              0.15952202, 0.17554844, 0.18521942, \n",
    "              0.27259048, 0.31620708, 0.33056815, \n",
    "              0.39095342, 0.61977213] \n",
    "\n",
    "\n",
    "#for every threshold, calculate predictions in binary\n",
    "#and append their calculated precision and recalls\n",
    "#to their respective lists\n",
    "for i in thresholds:\n",
    "    temp_prediction = [1 if x >= i else 0 for x in y_pred]\n",
    "    p = precision(y_true,temp_prediction)\n",
    "    r = recall(y_true , temp_prediction)\n",
    "    precisions.append(p)\n",
    "    recalls.append(r)"
   ]
  },
  {
   "cell_type": "code",
   "execution_count": 19,
   "metadata": {},
   "outputs": [],
   "source": [
    "import matplotlib.pyplot as plt"
   ]
  },
  {
   "cell_type": "code",
   "execution_count": 20,
   "metadata": {},
   "outputs": [
    {
     "data": {
      "text/plain": [
       "Text(0, 0.5, 'Precision')"
      ]
     },
     "execution_count": 20,
     "metadata": {},
     "output_type": "execute_result"
    },
    {
     "data": {
      "image/png": "[encoded data removed]",
      "text/plain": [
       "<Figure size 504x504 with 1 Axes>"
      ]
     },
     "metadata": {
      "needs_background": "light"
     },
     "output_type": "display_data"
    }
   ],
   "source": [
    "plt.figure(figsize = (7,7))\n",
    "plt.plot(recalls,precisions)\n",
    "plt.xlabel(\"Recall\" ,fontsize = 15)\n",
    "plt.ylabel(\"Precision\",  fontsize = 15)"
   ]
  },
  {
   "cell_type": "markdown",
   "metadata": {},
   "source": [
    "**~From the above curve we can see that it is quite challenging to chooes a value of threshold that gives both good precision and recall values.**\n",
    "\n",
    "* If the threshold is too high, you have a smaller number of true positives and a high number of false negatives. This decreases your recall; however, your precision score will be high. \n",
    "\n",
    "* If you reduce the threshold too low, false positives will increase a lot, and precision will be loss."
   ]
  },
  {
   "cell_type": "markdown",
   "metadata": {},
   "source": [
    "### F1 Score:\n",
    "F1 score is a metric that combines both the precision and recall. It is defined as a simple weighted average(harmonic mean) of precision and recall. If we denote precision using P and recall usinf R, we can represent the F1 score as:\n",
    "\n",
    "**F1 = 2PR/(P + R)**\n",
    "\n",
    "defining it using TP,FP and FN\n",
    "\n",
    "**F1 = 2TP/(2TP + FP + FN)**\n",
    "\n",
    "\n",
    "CODE FOR F1_SCORE"
   ]
  },
  {
   "cell_type": "code",
   "execution_count": 21,
   "metadata": {},
   "outputs": [],
   "source": [
    "#Function to calculate F1_Score\n",
    "\n",
    "def f1(y_true,y_pred):\n",
    "    \"\"\"\n",
    "    param y_true: list of true values\n",
    "    param y_pred: list of predicted values\n",
    "    return: f1 score\n",
    "    \"\"\"\n",
    "    \n",
    "    p = precision(y_true,y_pred)\n",
    "    r = recall(y_true,y_pred)\n",
    "    \n",
    "    score = 2*p*r/(p + r)\n",
    "    \n",
    "    return score"
   ]
  },
  {
   "cell_type": "code",
   "execution_count": 22,
   "metadata": {},
   "outputs": [
    {
     "data": {
      "text/plain": [
       "0.5714285714285715"
      ]
     },
     "execution_count": 22,
     "metadata": {},
     "output_type": "execute_result"
    }
   ],
   "source": [
    "y_true = [0,0,0,1,0,0,0,0,0,0,\n",
    "         1,0,0,0,0,0,0,0,1,0]\n",
    "\n",
    "\n",
    "y_pred = [0,0,1,0,0,0,1,0,0,0,\n",
    "         1,0,0,0,0,0,0,0,1,0]\n",
    "\n",
    "f1(y_true,y_pred)"
   ]
  },
  {
   "cell_type": "code",
   "execution_count": 23,
   "metadata": {},
   "outputs": [
    {
     "data": {
      "text/plain": [
       "0.5714285714285715"
      ]
     },
     "execution_count": 23,
     "metadata": {},
     "output_type": "execute_result"
    }
   ],
   "source": [
    "#Using scikit learn \n",
    "metrics.f1_score(y_true, y_pred)"
   ]
  },
  {
   "cell_type": "markdown",
   "metadata": {},
   "source": [
    "~As the f1_score is same for both hence we calculated it correct.\n",
    "\n",
    "* Instead of looking at precision and recall individually, you can also just look at F1 score.\n",
    "* F1 Score ranges from 1 to 0.\n",
    "* A perfect model will have F1 Score equal to 1.\n",
    "* When dealing with dataset that is skewed targets, we should look for F1 Score rather than accuracy.\n",
    "\n",
    "\n",
    "### TPR - True positive rate \n",
    "\n",
    "**TPR = TP/(TP + FN)**\n",
    "\n",
    "Hence it is same as recall.But then also we will create a different TPR function.\n",
    "\n",
    "\n",
    "CODE FOR TPR."
   ]
  },
  {
   "cell_type": "code",
   "execution_count": 24,
   "metadata": {},
   "outputs": [],
   "source": [
    "#function to calculate TPR\n",
    "def tpr(y_true, y_pred):\n",
    "    \"\"\"\n",
    "    param y_true: list of true values.\n",
    "    param y_pred: list of predicted values.\n",
    "    return: tpr/recall\n",
    "    \"\"\"\n",
    "    \n",
    "    return recall(y_true,y_pred)"
   ]
  },
  {
   "cell_type": "markdown",
   "metadata": {},
   "source": [
    "**TPR OR RECALL ALSO KNOWN AS SENSITIVITY**"
   ]
  },
  {
   "cell_type": "markdown",
   "metadata": {},
   "source": [
    "### FPR - false positive rate.\n",
    " \n",
    " **FPR = FP/ (FP + TN)**\n",
    " \n",
    " \n",
    " CODE FOR FPR"
   ]
  },
  {
   "cell_type": "code",
   "execution_count": 25,
   "metadata": {},
   "outputs": [],
   "source": [
    "#function to calculate FPR\n",
    "def fpr(y_true, y_pred):\n",
    "    \"\"\"\n",
    "    param y_true: list of true values.\n",
    "    param y_pred: list of predicted values.\n",
    "    return: fpr\n",
    "    \"\"\"\n",
    "    fp = false_positive(y_true, y_pred)\n",
    "    tn = true_negative(y_true , y_pred)\n",
    "    return  fp/(tn + fp)"
   ]
  },
  {
   "cell_type": "markdown",
   "metadata": {},
   "source": [
    "1-FPR KNOWN AS TNG(TRUE NEGATIVE RATE)"
   ]
  },
  {
   "cell_type": "code",
   "execution_count": 26,
   "metadata": {},
   "outputs": [],
   "source": [
    "#empty lists to store tpr\n",
    "#and fpr values\n",
    "\n",
    "tpr_list = []\n",
    "fpr_list = []\n",
    "\n",
    "#actual targets\n",
    "y_true = [0,0,0,0,1,0,1,0,0,1,0,1,0,0,1]\n",
    "\n",
    "\n",
    "#predicted probabilities of the sample being 1\n",
    "y_pred = [0.1, 0.3, 0.2, 0.6, 0.8, 0.05, 0.9, 0.5, 0.3, 0.66, 0.3, 0.2, 0.85, 0.15, 0.99] \n",
    "\n",
    "#handmade thresholds \n",
    "thresholds = [0, 0.1, 0.2, 0.3, 0.4, 0.5, 0.6, 0.7, 0.8, 0.85, 0.9, 0.99, 1.0] \n",
    "\n",
    "\n",
    "#loop over all thresholds \n",
    "for thresh in thresholds:\n",
    "    #calculate predictions for a given threshold\n",
    "    temp_pred = [1 if x >= thresh else 0 for x in y_pred]\n",
    "    #calculate tpr\n",
    "    temp_tpr = tpr(y_true, temp_pred)\n",
    "    #calculate fpr \n",
    "    temp_fpr = fpr(y_true, temp_pred) \n",
    "    #append tpr and fpr to lists \n",
    "    tpr_list.append(temp_tpr) \n",
    "    fpr_list.append(temp_fpr) "
   ]
  },
  {
   "cell_type": "code",
   "execution_count": 27,
   "metadata": {},
   "outputs": [],
   "source": [
    "values = {\"threshold\":thresholds,\"tpr\":tpr_list,\"fpr\":fpr_list}"
   ]
  },
  {
   "cell_type": "code",
   "execution_count": 28,
   "metadata": {},
   "outputs": [],
   "source": [
    "import pandas as pd\n",
    "values  = pd.DataFrame(values)"
   ]
  },
  {
   "cell_type": "code",
   "execution_count": 29,
   "metadata": {},
   "outputs": [
    {
     "data": {
      "text/html": [
       "<div>\n",
       "<style scoped>\n",
       "    .dataframe tbody tr th:only-of-type {\n",
       "        vertical-align: middle;\n",
       "    }\n",
       "\n",
       "    .dataframe tbody tr th {\n",
       "        vertical-align: top;\n",
       "    }\n",
       "\n",
       "    .dataframe thead th {\n",
       "        text-align: right;\n",
       "    }\n",
       "</style>\n",
       "<table border=\"1\" class=\"dataframe\">\n",
       "  <thead>\n",
       "    <tr style=\"text-align: right;\">\n",
       "      <th></th>\n",
       "      <th>threshold</th>\n",
       "      <th>tpr</th>\n",
       "      <th>fpr</th>\n",
       "    </tr>\n",
       "  </thead>\n",
       "  <tbody>\n",
       "    <tr>\n",
       "      <th>0</th>\n",
       "      <td>0.00</td>\n",
       "      <td>1.0</td>\n",
       "      <td>1.0</td>\n",
       "    </tr>\n",
       "    <tr>\n",
       "      <th>1</th>\n",
       "      <td>0.10</td>\n",
       "      <td>1.0</td>\n",
       "      <td>0.9</td>\n",
       "    </tr>\n",
       "    <tr>\n",
       "      <th>2</th>\n",
       "      <td>0.20</td>\n",
       "      <td>1.0</td>\n",
       "      <td>0.7</td>\n",
       "    </tr>\n",
       "    <tr>\n",
       "      <th>3</th>\n",
       "      <td>0.30</td>\n",
       "      <td>0.8</td>\n",
       "      <td>0.6</td>\n",
       "    </tr>\n",
       "    <tr>\n",
       "      <th>4</th>\n",
       "      <td>0.40</td>\n",
       "      <td>0.8</td>\n",
       "      <td>0.3</td>\n",
       "    </tr>\n",
       "    <tr>\n",
       "      <th>5</th>\n",
       "      <td>0.50</td>\n",
       "      <td>0.8</td>\n",
       "      <td>0.3</td>\n",
       "    </tr>\n",
       "    <tr>\n",
       "      <th>6</th>\n",
       "      <td>0.60</td>\n",
       "      <td>0.8</td>\n",
       "      <td>0.2</td>\n",
       "    </tr>\n",
       "    <tr>\n",
       "      <th>7</th>\n",
       "      <td>0.70</td>\n",
       "      <td>0.6</td>\n",
       "      <td>0.1</td>\n",
       "    </tr>\n",
       "    <tr>\n",
       "      <th>8</th>\n",
       "      <td>0.80</td>\n",
       "      <td>0.6</td>\n",
       "      <td>0.1</td>\n",
       "    </tr>\n",
       "    <tr>\n",
       "      <th>9</th>\n",
       "      <td>0.85</td>\n",
       "      <td>0.4</td>\n",
       "      <td>0.1</td>\n",
       "    </tr>\n",
       "    <tr>\n",
       "      <th>10</th>\n",
       "      <td>0.90</td>\n",
       "      <td>0.4</td>\n",
       "      <td>0.0</td>\n",
       "    </tr>\n",
       "    <tr>\n",
       "      <th>11</th>\n",
       "      <td>0.99</td>\n",
       "      <td>0.2</td>\n",
       "      <td>0.0</td>\n",
       "    </tr>\n",
       "    <tr>\n",
       "      <th>12</th>\n",
       "      <td>1.00</td>\n",
       "      <td>0.0</td>\n",
       "      <td>0.0</td>\n",
       "    </tr>\n",
       "  </tbody>\n",
       "</table>\n",
       "</div>"
      ],
      "text/plain": [
       "    threshold  tpr  fpr\n",
       "0        0.00  1.0  1.0\n",
       "1        0.10  1.0  0.9\n",
       "2        0.20  1.0  0.7\n",
       "3        0.30  0.8  0.6\n",
       "4        0.40  0.8  0.3\n",
       "5        0.50  0.8  0.3\n",
       "6        0.60  0.8  0.2\n",
       "7        0.70  0.6  0.1\n",
       "8        0.80  0.6  0.1\n",
       "9        0.85  0.4  0.1\n",
       "10       0.90  0.4  0.0\n",
       "11       0.99  0.2  0.0\n",
       "12       1.00  0.0  0.0"
      ]
     },
     "execution_count": 29,
     "metadata": {},
     "output_type": "execute_result"
    }
   ],
   "source": [
    "values"
   ]
  },
  {
   "cell_type": "markdown",
   "metadata": {},
   "source": [
    "~If we plot the above table with TPR on y-axis and FPR on the x-axis, we will get the curve as given below."
   ]
  },
  {
   "cell_type": "code",
   "execution_count": 30,
   "metadata": {},
   "outputs": [
    {
     "data": {
      "image/png": "[encoded data removed]",
      "text/plain": [
       "<Figure size 504x504 with 1 Axes>"
      ]
     },
     "metadata": {
      "needs_background": "light"
     },
     "output_type": "display_data"
    }
   ],
   "source": [
    "plt.figure(figsize = (7,7))\n",
    "plt.fill_between(fpr_list , tpr_list, alpha = 0.4)\n",
    "plt.plot(fpr_list , tpr_list , lw = 3)\n",
    "plt.xlim(0,1.0)\n",
    "plt.ylim(0, 1.0)\n",
    "plt.xlabel(\"FPR\", fontsize = 15)\n",
    "plt.ylabel(\"TPR\",fontsize = 15)\n",
    "plt.show()"
   ]
  },
  {
   "cell_type": "markdown",
   "metadata": {},
   "source": [
    "* This curve is also known as the RECEIVER OPERATING CHARATERISTIC(ROC). \n",
    "* And if we calculate the area under this ROC curve, we are calculating another metrics which is used very often when we have a dataset which has **Skewed binary targets**.\n",
    "* This metric is known as AREA UNDER ROC CURVE OR AUC."
   ]
  },
  {
   "cell_type": "code",
   "execution_count": 31,
   "metadata": {},
   "outputs": [
    {
     "data": {
      "text/plain": [
       "0.8300000000000001"
      ]
     },
     "execution_count": 31,
     "metadata": {},
     "output_type": "execute_result"
    }
   ],
   "source": [
    "from sklearn import metrics\n",
    "\n",
    "y_true = [0, 0, 0, 0, 1, 0, 1,0, 0, 1, 0, 1, 0, 0, 1] \n",
    "\n",
    "y_pred = [0.1, 0.3, 0.2, 0.6, 0.8, 0.05, 0.9, 0.5, 0.3, 0.66, 0.3, 0.2, 0.85, 0.15, 0.99] \n",
    "\n",
    "metrics.roc_auc_score(y_true, y_pred)  "
   ]
  },
  {
   "cell_type": "markdown",
   "metadata": {},
   "source": [
    "AUC values range from 0 to 1. \n",
    "\n",
    "- **AUC = 1** implies you have a perfect model. Most of the time, it means that you made some mistake with validation and should revisit data processing and validation pipeline of yours. If you didn’t make any mistakes, then congratulations, you have the best model one can have for the dataset you built it on. \n",
    "\n",
    "- **AUC = 0** implies that your model is very bad (or very good!). Try inverting the probabilities for the predictions, for example, if your probability for the positive class is p, try substituting it with 1-p. This kind of AUC may also mean that there is some problem with your validation or data processing. \n",
    "\n",
    "- **AUC = 0.5** implies that your predictions are random. So, for any binary classification problem, if I predict all targets as 0.5, I will get an AUC of 0.5. AUC values between 0 and 0.5 imply that your model is worse than random. Most of the time, it’s because you inverted the classes. If you try to invert your predictions, your AUC might become more than 0.5. AUC values closer to 1 are considered good. \n",
    "\n",
    "\n",
    "\n",
    "* AUC values between 0 and 0.5 imply that your model is worse than random. Most of the time, it’s because you inverted the classes. If you try to invert your predictions, your AUC might become more than 0.5. AUC values closer to 1 are considered good. \n",
    "\n",
    "### But what does AUC say about our model?\n",
    "\n",
    "Suppose you get an AUC of 0.85 when you build a model.This means that if you select a random image from your dataset with (positive sample) and another random image(negative sample), then the positive saample image will rank higher than negative sample image with a probability of 0.85.\n",
    "\n",
    "\n",
    "After calculating probabilities and AUC, you would want to make predictions on the test set. Depending on the problem and use-case, you might want to either have probabilities or actual classes. If you want to have probabilities, it’s effortless. You already have them. If you want to have classes, you need to select a threshold. In the case of binary classification, you can do something like the following. \n",
    "\n",
    "   **Prediction = Probability >= Threshold**\n",
    "\n",
    "Which means, that prediction is a new list which contains only binary variables. An item in prediction is 1 if the probability is greater than or equal to a given threshold else the value is 0. And guess what, you can use the ROC curve to choose this threshold! The ROC curve will tell you how the threshold impacts false positive rate and true positive rate and thus, in turn, false positives and true positives. You should choose the threshold that is best suited for your problem and datasets. For example, if you don’t want to have too many false positives, you should have a high threshold value. This will, however, also give you a lot more false negatives. Observe the trade-off and select the best threshold. Let’s see how these thresholds impact true positive and false positive values. "
   ]
  },
  {
   "cell_type": "code",
   "execution_count": 32,
   "metadata": {},
   "outputs": [],
   "source": [
    "#empty lists to store true positive \n",
    "#and false positive values \n",
    "\n",
    "tp_list = [] \n",
    "fp_list = [] \n",
    "\n",
    "#actual targets \n",
    "y_true = [0, 0, 0, 0, 1, 0, 1, 0, 0, 1, 0, 1, 0, 0, 1] \n",
    "\n",
    "#predicted probabilities of a sample being 1 \n",
    "y_pred = [0.1, 0.3, 0.2, 0.6, 0.8, 0.05, 0.9, 0.5, 0.3, 0.66, 0.3, 0.2, 0.85, 0.15, 0.99] \n",
    "\n",
    "#some handmade thresholds \n",
    "thresholds = [0, 0.1, 0.2, 0.3, 0.4, 0.5, 0.6, 0.7, 0.8, 0.85, 0.9, 0.99, 1.0]\n",
    "\n",
    "#loop over thresholds:\n",
    "for thresh in thresholds:\n",
    "    #calculate predictions for a given threshold\n",
    "    temp_pred = [1 if x >= thresh else 0 for x in y_pred]\n",
    "    \n",
    "    #calculate tp \n",
    "    temp_tp = false_positive(y_true , temp_pred)\n",
    "    \n",
    "    #calculate fp\n",
    "    temp_fp = false_positive(y_true , temp_pred)\n",
    "    \n",
    "    #append tp and fp to list \n",
    "    tp_list.append(temp_tp)\n",
    "    fp_list.append(temp_fp)"
   ]
  },
  {
   "cell_type": "code",
   "execution_count": 33,
   "metadata": {},
   "outputs": [
    {
     "data": {
      "text/html": [
       "<div>\n",
       "<style scoped>\n",
       "    .dataframe tbody tr th:only-of-type {\n",
       "        vertical-align: middle;\n",
       "    }\n",
       "\n",
       "    .dataframe tbody tr th {\n",
       "        vertical-align: top;\n",
       "    }\n",
       "\n",
       "    .dataframe thead th {\n",
       "        text-align: right;\n",
       "    }\n",
       "</style>\n",
       "<table border=\"1\" class=\"dataframe\">\n",
       "  <thead>\n",
       "    <tr style=\"text-align: right;\">\n",
       "      <th></th>\n",
       "      <th>threshold</th>\n",
       "      <th>tpr</th>\n",
       "      <th>fpr</th>\n",
       "    </tr>\n",
       "  </thead>\n",
       "  <tbody>\n",
       "    <tr>\n",
       "      <th>0</th>\n",
       "      <td>0.00</td>\n",
       "      <td>1.0</td>\n",
       "      <td>1.0</td>\n",
       "    </tr>\n",
       "    <tr>\n",
       "      <th>1</th>\n",
       "      <td>0.10</td>\n",
       "      <td>1.0</td>\n",
       "      <td>0.9</td>\n",
       "    </tr>\n",
       "    <tr>\n",
       "      <th>2</th>\n",
       "      <td>0.20</td>\n",
       "      <td>1.0</td>\n",
       "      <td>0.7</td>\n",
       "    </tr>\n",
       "    <tr>\n",
       "      <th>3</th>\n",
       "      <td>0.30</td>\n",
       "      <td>0.8</td>\n",
       "      <td>0.6</td>\n",
       "    </tr>\n",
       "    <tr>\n",
       "      <th>4</th>\n",
       "      <td>0.40</td>\n",
       "      <td>0.8</td>\n",
       "      <td>0.3</td>\n",
       "    </tr>\n",
       "    <tr>\n",
       "      <th>5</th>\n",
       "      <td>0.50</td>\n",
       "      <td>0.8</td>\n",
       "      <td>0.3</td>\n",
       "    </tr>\n",
       "    <tr>\n",
       "      <th>6</th>\n",
       "      <td>0.60</td>\n",
       "      <td>0.8</td>\n",
       "      <td>0.2</td>\n",
       "    </tr>\n",
       "    <tr>\n",
       "      <th>7</th>\n",
       "      <td>0.70</td>\n",
       "      <td>0.6</td>\n",
       "      <td>0.1</td>\n",
       "    </tr>\n",
       "    <tr>\n",
       "      <th>8</th>\n",
       "      <td>0.80</td>\n",
       "      <td>0.6</td>\n",
       "      <td>0.1</td>\n",
       "    </tr>\n",
       "    <tr>\n",
       "      <th>9</th>\n",
       "      <td>0.85</td>\n",
       "      <td>0.4</td>\n",
       "      <td>0.1</td>\n",
       "    </tr>\n",
       "    <tr>\n",
       "      <th>10</th>\n",
       "      <td>0.90</td>\n",
       "      <td>0.4</td>\n",
       "      <td>0.0</td>\n",
       "    </tr>\n",
       "    <tr>\n",
       "      <th>11</th>\n",
       "      <td>0.99</td>\n",
       "      <td>0.2</td>\n",
       "      <td>0.0</td>\n",
       "    </tr>\n",
       "    <tr>\n",
       "      <th>12</th>\n",
       "      <td>1.00</td>\n",
       "      <td>0.0</td>\n",
       "      <td>0.0</td>\n",
       "    </tr>\n",
       "  </tbody>\n",
       "</table>\n",
       "</div>"
      ],
      "text/plain": [
       "    threshold  tpr  fpr\n",
       "0        0.00  1.0  1.0\n",
       "1        0.10  1.0  0.9\n",
       "2        0.20  1.0  0.7\n",
       "3        0.30  0.8  0.6\n",
       "4        0.40  0.8  0.3\n",
       "5        0.50  0.8  0.3\n",
       "6        0.60  0.8  0.2\n",
       "7        0.70  0.6  0.1\n",
       "8        0.80  0.6  0.1\n",
       "9        0.85  0.4  0.1\n",
       "10       0.90  0.4  0.0\n",
       "11       0.99  0.2  0.0\n",
       "12       1.00  0.0  0.0"
      ]
     },
     "execution_count": 33,
     "metadata": {},
     "output_type": "execute_result"
    }
   ],
   "source": [
    "values = {\"threshold\":thresholds,\"tpr\":tpr_list,\"fpr\":fpr_list}\n",
    "values  = pd.DataFrame(values)\n",
    "values"
   ]
  },
  {
   "cell_type": "code",
   "execution_count": 34,
   "metadata": {},
   "outputs": [
    {
     "data": {
      "image/png": "[encoded data removed]",
      "text/plain": [
       "<Figure size 504x504 with 1 Axes>"
      ]
     },
     "metadata": {
      "needs_background": "light"
     },
     "output_type": "display_data"
    }
   ],
   "source": [
    "plt.figure(figsize = (7,7))\n",
    "plt.fill_between(fpr_list , tpr_list, alpha = 0.4)\n",
    "plt.plot(fpr_list , tpr_list , lw = 3)\n",
    "plt.xlim(0,1.0)\n",
    "plt.ylim(0, 1.0)\n",
    "plt.xlabel(\"FPR\", fontsize = 15)\n",
    "plt.ylabel(\"TPR\",fontsize = 15)\n",
    "plt.show()"
   ]
  },
  {
   "cell_type": "markdown",
   "metadata": {},
   "source": [
    "~AUC curve is widely used for skewed binary classification task in the industry.\n",
    "\n",
    "Another important metric after learning AUC is **log loss**."
   ]
  },
  {
   "cell_type": "markdown",
   "metadata": {},
   "source": [
    "ShubhangiDabral13..."
   ]
  }
 ],
 "metadata": {
  "kernelspec": {
   "display_name": "Python 3",
   "language": "python",
   "name": "python3"
  },
  "language_info": {
   "codemirror_mode": {
    "name": "ipython",
    "version": 3
   },
   "file_extension": ".py",
   "mimetype": "text/x-python",
   "name": "python",
   "nbconvert_exporter": "python",
   "pygments_lexer": "ipython3",
   "version": "3.7.6"
  }
 },
 "nbformat": 4,
 "nbformat_minor": 4
}
