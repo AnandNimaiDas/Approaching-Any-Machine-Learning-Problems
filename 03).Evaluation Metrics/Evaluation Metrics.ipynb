{
 "cells": [
  {
   "cell_type": "markdown",
   "metadata": {},
   "source": [
    "# Evalution Metrics\n",
    "\n",
    "## Classification problems metrics are:\n",
    " \n",
    "   * Accuracy \n",
    "   * Precision(P)\n",
    "   * Recall(R)\n",
    "   * F1 score(F1)\n",
    "   * AUC \n",
    "   * Log loss\n",
    "   * Precision at k\n",
    "   * Average precision at k\n",
    "   * Mean average precision at k\n",
    "   \n",
    "  \n",
    "## Regression problems evaluation metrics :\n",
    "\n",
    "   * Mean absolute error\n",
    "   * Mean squared error\n",
    "   * Root mean squared error\n",
    "   * Root mean squared logarithmic error\n",
    "   * Mean percentage error\n",
    "   * Mean absolute percentage error\n",
    "   \n",
    "But here we will look into evalutation metrics for Classification problems.\n",
    " \n",
    "\n",
    "**When we have an equal number of positive and negative samples in a binary classification metric, we generally use accuracy, precision, recall and f1.**\n",
    " \n",
    " \n",
    " ### Accuracy : \n",
    " It is one of the most straightforward metrics used in machine learning. It defines how accurate your model is. \n",
    " \n",
    " CODE FOR CALCULATING ACCURACY IS:"
   ]
  },
  {
   "cell_type": "code",
   "execution_count": 1,
   "metadata": {},
   "outputs": [],
   "source": [
    "def accuracy(y_true,y_pred):\n",
    "    \n",
    "    \"\"\"\n",
    "    param y_true : list of true values.\n",
    "    param y_pred : list of predicted values.\n",
    "    \"\"\"\n",
    "    \n",
    "    #initalizing simple counter to count correct predictions.\n",
    "    count_val = 0\n",
    "    for i, j in zip(y_true,y_pred):\n",
    "        \n",
    "        if i == j:\n",
    "            #if predicted value is equal to the true value then we will increase the counter by one.\n",
    "            count_val += 1\n",
    "            \n",
    "    #return accuracy\n",
    "    #which is correct predictions over the number of samples\n",
    "    return count_val / len(y_true)\n",
    "            "
   ]
  },
  {
   "cell_type": "code",
   "execution_count": 2,
   "metadata": {},
   "outputs": [
    {
     "name": "stdout",
     "output_type": "stream",
     "text": [
      "0.625\n"
     ]
    },
    {
     "data": {
      "text/plain": [
       "0.625"
      ]
     },
     "execution_count": 2,
     "metadata": {},
     "output_type": "execute_result"
    }
   ],
   "source": [
    "from sklearn import metrics\n",
    "\n",
    "l1 = [0,1,1,1,0,0,0,1]\n",
    "l2 = [0,1,0,1,0,1,0,0]\n",
    "\n",
    "\n",
    "print(accuracy(l1,l2))\n",
    "\n",
    "#sklearn function to calculate  accuracy \n",
    "metrics.accuracy_score(l1,l2)"
   ]
  },
  {
   "cell_type": "markdown",
   "metadata": {},
   "source": [
    "**If we have skewed dataset then it's better to use precision evalutation metrices rather than accuracy.**\n",
    "\n",
    "\n",
    "### Precision :\n",
    "\n",
    "before diving into it let's make some clear in our head.\n",
    "\n",
    "* **True Positive(TP)** : If our model correctly predict positive class it is true positive. \n",
    "\n",
    "* **True Negative(TN)** : if our model correctly predict negative class it is true negative.\n",
    "\n",
    "* **False Positive(FP)** : if your model incorrectly(or falsely) predict positive class,  it it a false positive.\n",
    "\n",
    "* **False Negative(FN)** : if your model incorrectly(or falsely) predict negative class,  it is false negative.\n",
    "\n",
    "\n",
    "CODE TO CALCULATE TP,TN,FP AND FN."
   ]
  },
  {
   "cell_type": "code",
   "execution_count": 3,
   "metadata": {},
   "outputs": [],
   "source": [
    "#function to calculate true positive.\n",
    "def true_positive(y_true,y_pred):\n",
    "    \"\"\"\n",
    "    param y_true = list of true values\n",
    "    param y_pred = list of predicted values\n",
    "    return : number of true positive\n",
    "    \"\"\"\n",
    "    \n",
    "    #initalize \n",
    "    tp = 0\n",
    "    for yt, yp in zip(y_true , y_pred):\n",
    "        if yt == 1 and yp == 1:\n",
    "            tp += 1\n",
    "        \n",
    "    \n",
    "    return tp\n"
   ]
  },
  {
   "cell_type": "code",
   "execution_count": 4,
   "metadata": {},
   "outputs": [],
   "source": [
    "#Function to calculate true negative\n",
    "def true_negative(y_true,y_pred):\n",
    "    \"\"\"\n",
    "    param y_true = list of true values\n",
    "    param y_pred = list of predicted values\n",
    "    return : number of true negative\n",
    "    \"\"\"\n",
    "    \n",
    "    #initalize \n",
    "    tn = 0\n",
    "    for yt, yp in zip(y_true , y_pred):\n",
    "        \n",
    "        if yt == 0  and yp == 0:\n",
    "            \n",
    "            tn += 1\n",
    "        \n",
    "    \n",
    "    return tn"
   ]
  },
  {
   "cell_type": "code",
   "execution_count": 5,
   "metadata": {},
   "outputs": [],
   "source": [
    "#Function to calculate true negative\n",
    "def false_positive(y_true,y_pred):\n",
    "    \"\"\"\n",
    "    param y_true = list of true values\n",
    "    param y_pred = list of predicted values\n",
    "    return : number of false positive\n",
    "    \"\"\"\n",
    "    \n",
    "    #initalize \n",
    "    fp = 0\n",
    "    for yt, yp in zip(y_true , y_pred):\n",
    "        \n",
    "        if yt == 0  and yp == 1:\n",
    "            \n",
    "            fp += 1\n",
    "        \n",
    "    \n",
    "    return fp"
   ]
  },
  {
   "cell_type": "code",
   "execution_count": 6,
   "metadata": {},
   "outputs": [],
   "source": [
    "#Function to calculate true negative\n",
    "def false_negative(y_true,y_pred):\n",
    "    \"\"\"\n",
    "    param y_true = list of true values\n",
    "    param y_pred = list of predicted values\n",
    "    return : number of false negative\n",
    "    \"\"\"\n",
    "    \n",
    "    #initalize \n",
    "    fn = 0\n",
    "    for yt, yp in zip(y_true , y_pred):\n",
    "        \n",
    "        if yt == 1  and yp == 0:\n",
    "            \n",
    "            fn += 1\n",
    "        \n",
    "    \n",
    "    return fn"
   ]
  },
  {
   "cell_type": "code",
   "execution_count": 7,
   "metadata": {},
   "outputs": [
    {
     "data": {
      "text/plain": [
       "2"
      ]
     },
     "execution_count": 7,
     "metadata": {},
     "output_type": "execute_result"
    }
   ],
   "source": [
    "l1 = [0,1,1,1,0,0,0,1]\n",
    "l2 = [0,1,0,1,0,1,0,0]\n",
    "\n",
    "true_positive(l1, l2)"
   ]
  },
  {
   "cell_type": "code",
   "execution_count": 8,
   "metadata": {},
   "outputs": [
    {
     "data": {
      "text/plain": [
       "1"
      ]
     },
     "execution_count": 8,
     "metadata": {},
     "output_type": "execute_result"
    }
   ],
   "source": [
    "false_positive(l1,l2)"
   ]
  },
  {
   "cell_type": "code",
   "execution_count": 9,
   "metadata": {},
   "outputs": [
    {
     "data": {
      "text/plain": [
       "2"
      ]
     },
     "execution_count": 9,
     "metadata": {},
     "output_type": "execute_result"
    }
   ],
   "source": [
    "false_negative(l1,l2)\n"
   ]
  },
  {
   "cell_type": "code",
   "execution_count": 10,
   "metadata": {},
   "outputs": [
    {
     "data": {
      "text/plain": [
       "3"
      ]
     },
     "execution_count": 10,
     "metadata": {},
     "output_type": "execute_result"
    }
   ],
   "source": [
    "true_negative(l1,l2)"
   ]
  },
  {
   "cell_type": "markdown",
   "metadata": {},
   "source": [
    "If we define accuracy using the term above then we get :\n",
    "\n",
    "   **Accuracy Score = (TP + TN)/(TP + TN + FP +FN**"
   ]
  },
  {
   "cell_type": "code",
   "execution_count": 11,
   "metadata": {},
   "outputs": [],
   "source": [
    "def accuracy_v2(y_true,y_pred):\n",
    "    \"\"\"\n",
    "    Function to calculate accuracy using tp/tn/fp/fn\n",
    "    param y_true: list of true values\n",
    "    param y_pred: list of predicted values\n",
    "    return: accuracy score\n",
    "    \"\"\"\n",
    "    \n",
    "    tp = true_positive(y_true,y_pred)\n",
    "    tn = true_negative(y_true,y_pred)\n",
    "    fp = false_positive(y_true,y_pred)\n",
    "    fn = false_negative(y_true,y_pred)\n",
    "    \n",
    "    accuracy_score = (tn + tp)/(tn + tp + fp + fn)\n",
    "    \n",
    "    return accuracy_score\n",
    "    "
   ]
  },
  {
   "cell_type": "code",
   "execution_count": 12,
   "metadata": {},
   "outputs": [
    {
     "name": "stdout",
     "output_type": "stream",
     "text": [
      "0.625\n",
      "0.625\n"
     ]
    },
    {
     "data": {
      "text/plain": [
       "0.625"
      ]
     },
     "execution_count": 12,
     "metadata": {},
     "output_type": "execute_result"
    }
   ],
   "source": [
    "l1 = [0,1,1,1,0,0,0,1]\n",
    "l2 = [0,1,0,1,0,1,0,0]\n",
    "\n",
    "\n",
    "#by using starting accuracy function\n",
    "print(accuracy(l1,l2))\n",
    "\n",
    "print(accuracy_v2(l1,l2))\n",
    "\n",
    "metrics.accuracy_score(l1,l2)\n"
   ]
  },
  {
   "cell_type": "markdown",
   "metadata": {},
   "source": [
    "~All the value are same this means we made no mistake up to here."
   ]
  },
  {
   "cell_type": "markdown",
   "metadata": {},
   "source": [
    "### Precision Definition :\n",
    "\n",
    " **Precision = TP/(TP + FP)**\n",
    " \n",
    " Lets take an example : \n",
    " - TP : 8\n",
    " - TN : 80\n",
    " - FP : 10\n",
    " - FN : 2\n",
    " \n",
    " \n",
    "PRECISION = 8/(8 + 10) = 0.44.\n",
    "This means our model is correct 44.4% times when it's try to identify posititve samples.\n",
    "\n",
    "\n",
    "CODE TO CALCULATE PRECISION"
   ]
  },
  {
   "cell_type": "code",
   "execution_count": 13,
   "metadata": {},
   "outputs": [],
   "source": [
    "#Function to calculate precision\n",
    "\n",
    "def precision(y_true,y_pred):\n",
    "    \"\"\"\n",
    "    param y_true: list of true values\n",
    "    param y_pred: list of predicted values\n",
    "    return: precision\n",
    "    \"\"\"\n",
    "    \n",
    "    tp = true_positive(y_true,y_pred)\n",
    "    fp = false_positive(y_true,y_pred)\n",
    "    \n",
    "    precision = (tp)/(tp + fp)\n",
    "    \n",
    "    return precision"
   ]
  },
  {
   "cell_type": "code",
   "execution_count": 14,
   "metadata": {},
   "outputs": [
    {
     "data": {
      "text/plain": [
       "0.6666666666666666"
      ]
     },
     "execution_count": 14,
     "metadata": {},
     "output_type": "execute_result"
    }
   ],
   "source": [
    "l1 = [0,1,1,1,0,0,0,1]\n",
    "l2 = [0,1,0,1,0,1,0,0]\n",
    "\n",
    "\n",
    "precision(l1,l2)"
   ]
  },
  {
   "cell_type": "markdown",
   "metadata": {},
   "source": [
    "### Recall:\n",
    "\n",
    "**Recall = TP/(TP + FN)**\n",
    "\n",
    "\n",
    "Lets take an example : \n",
    " - TP : 8\n",
    " - TN : 80\n",
    " - FP : 10\n",
    " - FN : 2\n",
    " \n",
    " \n",
    "Recall = 8/(8 + 2) = 0.80.\n",
    "This means our model identified 80% of posititve samples correctly.\n",
    "\n",
    "\n",
    "\n",
    "CODE TO CALCULATE RECALL"
   ]
  },
  {
   "cell_type": "code",
   "execution_count": 15,
   "metadata": {},
   "outputs": [],
   "source": [
    "#Function to calculate precision\n",
    "\n",
    "def recall(y_true,y_pred):\n",
    "    \"\"\"\n",
    "    param y_true: list of true values\n",
    "    param y_pred: list of predicted values\n",
    "    return: recall\n",
    "    \"\"\"\n",
    "    \n",
    "    tp = true_positive(y_true,y_pred)\n",
    "    fn = false_negative(y_true,y_pred)\n",
    "    \n",
    "    recall = (tp)/(tp + fn)\n",
    "    \n",
    "    return recall"
   ]
  },
  {
   "cell_type": "code",
   "execution_count": 16,
   "metadata": {},
   "outputs": [
    {
     "data": {
      "text/plain": [
       "0.5"
      ]
     },
     "execution_count": 16,
     "metadata": {},
     "output_type": "execute_result"
    }
   ],
   "source": [
    "l1 = [0,1,1,1,0,0,0,1]\n",
    "l2 = [0,1,0,1,0,1,0,0]\n",
    "\n",
    "\n",
    "recall(l1,l2)"
   ]
  },
  {
   "cell_type": "code",
   "execution_count": 17,
   "metadata": {},
   "outputs": [],
   "source": [
    "y_true = [0,0,0,1,0,0,0,0,0,0,1,0,0,0,0,0,0,0,1,0]\n",
    "\n",
    "y_pred = [.02638412, 0.11114267, 0.31620708, \n",
    "0.0490937, 0.0191491, 0.17554844, \n",
    "0.15952202, 0.03819563, 0.11639273, \n",
    "0.079377, 0.08584789, 0.39095342, \n",
    "0.27259048, 0.03447096, 0.04644807, \n",
    "0.03543574, 0.18521942, 0.05934905, \n",
    "0.61977213, 0.33056815]"
   ]
  },
  {
   "cell_type": "markdown",
   "metadata": {},
   "source": [
    "#### Creating a precision recall curve"
   ]
  },
  {
   "cell_type": "code",
   "execution_count": 18,
   "metadata": {},
   "outputs": [],
   "source": [
    "precisions = []\n",
    "recalls = []\n",
    "#how we assumed these threshold is a long story\n",
    "\n",
    "thresholds = [0.0490937, 0.05934905, 0.079377,\n",
    "              0.08584789, 0.11114267, 0.11639273, \n",
    "              0.15952202, 0.17554844, 0.18521942, \n",
    "              0.27259048, 0.31620708, 0.33056815, \n",
    "              0.39095342, 0.61977213] \n",
    "\n",
    "\n",
    "#for every threshold, calculate predictions in binary\n",
    "#and append their calculated precision and recalls\n",
    "#to their respective lists\n",
    "for i in thresholds:\n",
    "    temp_prediction = [1 if x >= i else 0 for x in y_pred]\n",
    "    p = precision(y_true,temp_prediction)\n",
    "    r = recall(y_true , temp_prediction)\n",
    "    precisions.append(p)\n",
    "    recalls.append(r)"
   ]
  },
  {
   "cell_type": "code",
   "execution_count": 19,
   "metadata": {},
   "outputs": [],
   "source": [
    "import matplotlib.pyplot as plt"
   ]
  },
  {
   "cell_type": "code",
   "execution_count": 20,
   "metadata": {},
   "outputs": [
    {
     "data": {
      "text/plain": [
       "Text(0, 0.5, 'Precision')"
      ]
     },
     "execution_count": 20,
     "metadata": {},
     "output_type": "execute_result"
    },
    {
     "data": {
      "image/png": "[encoded data removed]",
      "text/plain": [
       "<Figure size 504x504 with 1 Axes>"
      ]
     },
     "metadata": {
      "needs_background": "light"
     },
     "output_type": "display_data"
    }
   ],
   "source": [
    "plt.figure(figsize = (7,7))\n",
    "plt.plot(recalls,precisions)\n",
    "plt.xlabel(\"Recall\" ,fontsize = 15)\n",
    "plt.ylabel(\"Precision\",  fontsize = 15)"
   ]
  },
  {
   "cell_type": "markdown",
   "metadata": {},
   "source": [
    "**~From the above curve we can see that it is quite challenging to chooes a value of threshold that gives both good precision and recall values.**\n",
    "\n",
    "* If the threshold is too high, you have a smaller number of true positives and a high number of false negatives. This decreases your recall; however, your precision score will be high. \n",
    "\n",
    "* If you reduce the threshold too low, false positives will increase a lot, and precision will be loss."
   ]
  },
  {
   "cell_type": "markdown",
   "metadata": {},
   "source": [
    "### F1 Score:\n",
    "F1 score is a metric that combines both the precision and recall. It is defined as a simple weighted average(harmonic mean) of precision and recall. If we denote precision using P and recall usinf R, we can represent the F1 score as:\n",
    "\n",
    "**F1 = 2PR/(P + R)**\n",
    "\n",
    "defining it using TP,FP and FN\n",
    "\n",
    "**F1 = 2TP/(2TP + FP + FN)**\n",
    "\n",
    "\n",
    "CODE FOR F1_SCORE"
   ]
  },
  {
   "cell_type": "code",
   "execution_count": 21,
   "metadata": {},
   "outputs": [],
   "source": [
    "#Function to calculate F1_Score\n",
    "\n",
    "def f1(y_true,y_pred):\n",
    "    \"\"\"\n",
    "    param y_true: list of true values\n",
    "    param y_pred: list of predicted values\n",
    "    return: f1 score\n",
    "    \"\"\"\n",
    "    \n",
    "    p = precision(y_true,y_pred)\n",
    "    r = recall(y_true,y_pred)\n",
    "    \n",
    "    score = 2*p*r/(p + r)\n",
    "    \n",
    "    return score"
   ]
  },
  {
   "cell_type": "code",
   "execution_count": 22,
   "metadata": {},
   "outputs": [
    {
     "data": {
      "text/plain": [
       "0.5714285714285715"
      ]
     },
     "execution_count": 22,
     "metadata": {},
     "output_type": "execute_result"
    }
   ],
   "source": [
    "y_true = [0,0,0,1,0,0,0,0,0,0,\n",
    "         1,0,0,0,0,0,0,0,1,0]\n",
    "\n",
    "\n",
    "y_pred = [0,0,1,0,0,0,1,0,0,0,\n",
    "         1,0,0,0,0,0,0,0,1,0]\n",
    "\n",
    "f1(y_true,y_pred)"
   ]
  },
  {
   "cell_type": "code",
   "execution_count": 23,
   "metadata": {},
   "outputs": [
    {
     "data": {
      "text/plain": [
       "0.5714285714285715"
      ]
     },
     "execution_count": 23,
     "metadata": {},
     "output_type": "execute_result"
    }
   ],
   "source": [
    "#Using scikit learn \n",
    "metrics.f1_score(y_true, y_pred)"
   ]
  },
  {
   "cell_type": "markdown",
   "metadata": {},
   "source": [
    "~As the f1_score is same for both hence we calculated it correct."
   ]
  },
  {
   "cell_type": "markdown",
   "metadata": {},
   "source": [
    "ShubhangiDabral13..."
   ]
  }
 ],
 "metadata": {
  "kernelspec": {
   "display_name": "Python 3",
   "language": "python",
   "name": "python3"
  },
  "language_info": {
   "codemirror_mode": {
    "name": "ipython",
    "version": 3
   },
   "file_extension": ".py",
   "mimetype": "text/x-python",
   "name": "python",
   "nbconvert_exporter": "python",
   "pygments_lexer": "ipython3",
   "version": "3.7.6"
  }
 },
 "nbformat": 4,
 "nbformat_minor": 4
}
