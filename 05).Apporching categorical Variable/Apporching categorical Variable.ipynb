{
 "cells": [
  {
   "cell_type": "markdown",
   "metadata": {},
   "source": [
    "# Apporaching categorical variables\n",
    "\n",
    "## What are categorical variables?\n",
    "\n",
    "\n",
    "Categorical variables/features are any feature type can be classified into two major types:\n",
    "\n",
    " • Nominal\n",
    " \n",
    " • Ordinal\n",
    " \n",
    " \n",
    "**Nominal variables** are variables that have two or more categories which do not have any kind of order associated with them. For example, if gender is classified into two groups, i.e. male and female, it can be considered as a nominal variable. \n",
    "\n",
    "\n",
    "**Ordinal variables**, on the other hand, have “levels” or categories with a particular order associated with them. For example, an ordinal categorical variable can be a feature with three different levels: low, medium and high. Order is important. \n",
    "\n",
    "As far as definitions are concerned, we can also categorize categorical variables as **binary**, i.e., a categorical variable with only two categories. Some even talk about a type called **cyclic** for categorical variables. Cyclic variables are present in “cycles” for example, days in a week: Sunday, Monday, Tuesday, Wednesday, Thursday, Friday and Saturday. After Saturday, we have Sunday again. This is a cycle. Another example would be hours in a day if we consider them to be categories. \n",
    "\n",
    "\n",
    "We will be using **cat-in-the-dat** from Categorical Features Encoding Challenge from Kaggle. "
   ]
  },
  {
   "cell_type": "code",
   "execution_count": 1,
   "metadata": {},
   "outputs": [],
   "source": [
    "import numpy as np\n",
    "import pandas as pd\n",
    "df = pd.read_csv(\"train.csv\")"
   ]
  },
  {
   "cell_type": "code",
   "execution_count": 2,
   "metadata": {},
   "outputs": [
    {
     "data": {
      "text/html": [
       "<div>\n",
       "<style scoped>\n",
       "    .dataframe tbody tr th:only-of-type {\n",
       "        vertical-align: middle;\n",
       "    }\n",
       "\n",
       "    .dataframe tbody tr th {\n",
       "        vertical-align: top;\n",
       "    }\n",
       "\n",
       "    .dataframe thead th {\n",
       "        text-align: right;\n",
       "    }\n",
       "</style>\n",
       "<table border=\"1\" class=\"dataframe\">\n",
       "  <thead>\n",
       "    <tr style=\"text-align: right;\">\n",
       "      <th></th>\n",
       "      <th>id</th>\n",
       "      <th>bin_0</th>\n",
       "      <th>bin_1</th>\n",
       "      <th>bin_2</th>\n",
       "      <th>bin_3</th>\n",
       "      <th>bin_4</th>\n",
       "      <th>nom_0</th>\n",
       "      <th>nom_1</th>\n",
       "      <th>nom_2</th>\n",
       "      <th>nom_3</th>\n",
       "      <th>...</th>\n",
       "      <th>nom_9</th>\n",
       "      <th>ord_0</th>\n",
       "      <th>ord_1</th>\n",
       "      <th>ord_2</th>\n",
       "      <th>ord_3</th>\n",
       "      <th>ord_4</th>\n",
       "      <th>ord_5</th>\n",
       "      <th>day</th>\n",
       "      <th>month</th>\n",
       "      <th>target</th>\n",
       "    </tr>\n",
       "  </thead>\n",
       "  <tbody>\n",
       "    <tr>\n",
       "      <th>0</th>\n",
       "      <td>0</td>\n",
       "      <td>0.0</td>\n",
       "      <td>0.0</td>\n",
       "      <td>0.0</td>\n",
       "      <td>F</td>\n",
       "      <td>N</td>\n",
       "      <td>Red</td>\n",
       "      <td>Trapezoid</td>\n",
       "      <td>Hamster</td>\n",
       "      <td>Russia</td>\n",
       "      <td>...</td>\n",
       "      <td>02e7c8990</td>\n",
       "      <td>3.0</td>\n",
       "      <td>Contributor</td>\n",
       "      <td>Hot</td>\n",
       "      <td>c</td>\n",
       "      <td>U</td>\n",
       "      <td>Pw</td>\n",
       "      <td>6.0</td>\n",
       "      <td>3.0</td>\n",
       "      <td>0</td>\n",
       "    </tr>\n",
       "    <tr>\n",
       "      <th>1</th>\n",
       "      <td>1</td>\n",
       "      <td>1.0</td>\n",
       "      <td>1.0</td>\n",
       "      <td>0.0</td>\n",
       "      <td>F</td>\n",
       "      <td>Y</td>\n",
       "      <td>Red</td>\n",
       "      <td>Star</td>\n",
       "      <td>Axolotl</td>\n",
       "      <td>NaN</td>\n",
       "      <td>...</td>\n",
       "      <td>f37df64af</td>\n",
       "      <td>3.0</td>\n",
       "      <td>Grandmaster</td>\n",
       "      <td>Warm</td>\n",
       "      <td>e</td>\n",
       "      <td>X</td>\n",
       "      <td>pE</td>\n",
       "      <td>7.0</td>\n",
       "      <td>7.0</td>\n",
       "      <td>0</td>\n",
       "    </tr>\n",
       "    <tr>\n",
       "      <th>2</th>\n",
       "      <td>2</td>\n",
       "      <td>0.0</td>\n",
       "      <td>1.0</td>\n",
       "      <td>0.0</td>\n",
       "      <td>F</td>\n",
       "      <td>N</td>\n",
       "      <td>Red</td>\n",
       "      <td>NaN</td>\n",
       "      <td>Hamster</td>\n",
       "      <td>Canada</td>\n",
       "      <td>...</td>\n",
       "      <td>NaN</td>\n",
       "      <td>3.0</td>\n",
       "      <td>NaN</td>\n",
       "      <td>Freezing</td>\n",
       "      <td>n</td>\n",
       "      <td>P</td>\n",
       "      <td>eN</td>\n",
       "      <td>5.0</td>\n",
       "      <td>9.0</td>\n",
       "      <td>0</td>\n",
       "    </tr>\n",
       "    <tr>\n",
       "      <th>3</th>\n",
       "      <td>3</td>\n",
       "      <td>NaN</td>\n",
       "      <td>0.0</td>\n",
       "      <td>0.0</td>\n",
       "      <td>F</td>\n",
       "      <td>N</td>\n",
       "      <td>Red</td>\n",
       "      <td>Circle</td>\n",
       "      <td>Hamster</td>\n",
       "      <td>Finland</td>\n",
       "      <td>...</td>\n",
       "      <td>f9d456e57</td>\n",
       "      <td>1.0</td>\n",
       "      <td>Novice</td>\n",
       "      <td>Lava Hot</td>\n",
       "      <td>a</td>\n",
       "      <td>C</td>\n",
       "      <td>NaN</td>\n",
       "      <td>3.0</td>\n",
       "      <td>3.0</td>\n",
       "      <td>0</td>\n",
       "    </tr>\n",
       "    <tr>\n",
       "      <th>4</th>\n",
       "      <td>4</td>\n",
       "      <td>0.0</td>\n",
       "      <td>NaN</td>\n",
       "      <td>0.0</td>\n",
       "      <td>T</td>\n",
       "      <td>N</td>\n",
       "      <td>Red</td>\n",
       "      <td>Triangle</td>\n",
       "      <td>Hamster</td>\n",
       "      <td>Costa Rica</td>\n",
       "      <td>...</td>\n",
       "      <td>c5361037c</td>\n",
       "      <td>3.0</td>\n",
       "      <td>Grandmaster</td>\n",
       "      <td>Cold</td>\n",
       "      <td>h</td>\n",
       "      <td>C</td>\n",
       "      <td>OZ</td>\n",
       "      <td>5.0</td>\n",
       "      <td>12.0</td>\n",
       "      <td>0</td>\n",
       "    </tr>\n",
       "  </tbody>\n",
       "</table>\n",
       "<p>5 rows × 25 columns</p>\n",
       "</div>"
      ],
      "text/plain": [
       "   id  bin_0  bin_1  bin_2 bin_3 bin_4 nom_0      nom_1    nom_2       nom_3  \\\n",
       "0   0    0.0    0.0    0.0     F     N   Red  Trapezoid  Hamster      Russia   \n",
       "1   1    1.0    1.0    0.0     F     Y   Red       Star  Axolotl         NaN   \n",
       "2   2    0.0    1.0    0.0     F     N   Red        NaN  Hamster      Canada   \n",
       "3   3    NaN    0.0    0.0     F     N   Red     Circle  Hamster     Finland   \n",
       "4   4    0.0    NaN    0.0     T     N   Red   Triangle  Hamster  Costa Rica   \n",
       "\n",
       "   ...      nom_9 ord_0        ord_1     ord_2 ord_3 ord_4  ord_5  day month  \\\n",
       "0  ...  02e7c8990   3.0  Contributor       Hot     c     U     Pw  6.0   3.0   \n",
       "1  ...  f37df64af   3.0  Grandmaster      Warm     e     X     pE  7.0   7.0   \n",
       "2  ...        NaN   3.0          NaN  Freezing     n     P     eN  5.0   9.0   \n",
       "3  ...  f9d456e57   1.0       Novice  Lava Hot     a     C    NaN  3.0   3.0   \n",
       "4  ...  c5361037c   3.0  Grandmaster      Cold     h     C     OZ  5.0  12.0   \n",
       "\n",
       "  target  \n",
       "0      0  \n",
       "1      0  \n",
       "2      0  \n",
       "3      0  \n",
       "4      0  \n",
       "\n",
       "[5 rows x 25 columns]"
      ]
     },
     "execution_count": 2,
     "metadata": {},
     "output_type": "execute_result"
    }
   ],
   "source": [
    "df.head()"
   ]
  },
  {
   "cell_type": "markdown",
   "metadata": {},
   "source": [
    "### The Dataset consist of all kinds of categorical variables:\n",
    "* **Nominal**\n",
    "* **Ordinal**\n",
    "* **Cyclical**\n",
    "* **Binary**\n",
    "\n",
    "\n",
    "It is abinary classification problem."
   ]
  },
  {
   "cell_type": "code",
   "execution_count": 3,
   "metadata": {},
   "outputs": [
    {
     "data": {
      "text/plain": [
       "<matplotlib.axes._subplots.AxesSubplot at 0x7ff42e0d0c10>"
      ]
     },
     "execution_count": 3,
     "metadata": {},
     "output_type": "execute_result"
    },
    {
     "data": {
      "image/png": "[encoded data removed]",
      "text/plain": [
       "<Figure size 432x288 with 1 Axes>"
      ]
     },
     "metadata": {
      "needs_background": "light"
     },
     "output_type": "display_data"
    }
   ],
   "source": [
    "import seaborn as sns\n",
    "sns.countplot(x = \"target\", data  = df)"
   ]
  },
  {
   "cell_type": "markdown",
   "metadata": {},
   "source": [
    "~As we know that the target is skewed so we will use **ROC Curve** to evaluate result."
   ]
  },
  {
   "cell_type": "markdown",
   "metadata": {},
   "source": [
    "Overall, there are: \n",
    "\n",
    "    • Five binary variables \n",
    "    • Ten nominal variables \n",
    "    • Six ordinal variables \n",
    "    • Two cyclic variables \n",
    "    • And a target variable \n",
    "    \n",
    "ord_2 feature consists of six different categories: \n",
    "\n",
    "    • Freezing \n",
    "    • Warm \n",
    "    • Cold \n",
    "    • Boiling Hot \n",
    "    • Hot \n",
    "    • Lava Hot\n",
    "    \n",
    "We have to know that computers do not understand text data and thus, we need to convert these categories to numbers. A simple way of doing this would be to create a dictionary that maps these values to numbers starting from 0 to N-1, where N is the total number of categories in a given feature."
   ]
  },
  {
   "cell_type": "code",
   "execution_count": 4,
   "metadata": {},
   "outputs": [],
   "source": [
    "mapping = {\n",
    "    \"Freezing\" : 0,\n",
    "    \"Warm\" : 1,\n",
    "    \"Cold\" : 2,\n",
    "    \"Boiling Hot\" : 3,\n",
    "    \"Hot\" : 4,\n",
    "    \"Lava Hot\" : 5\n",
    "}"
   ]
  },
  {
   "cell_type": "code",
   "execution_count": 5,
   "metadata": {},
   "outputs": [
    {
     "data": {
      "text/plain": [
       "Freezing       142726\n",
       "Warm           124239\n",
       "Cold            97822\n",
       "Boiling Hot     84790\n",
       "Hot             67508\n",
       "Lava Hot        64840\n",
       "Name: ord_2, dtype: int64"
      ]
     },
     "execution_count": 5,
     "metadata": {},
     "output_type": "execute_result"
    }
   ],
   "source": [
    "#Value count before mapping\n",
    "df.ord_2.value_counts()"
   ]
  },
  {
   "cell_type": "markdown",
   "metadata": {},
   "source": [
    "Now we can read the dataset and convert these categories to numbers easily."
   ]
  },
  {
   "cell_type": "code",
   "execution_count": 6,
   "metadata": {},
   "outputs": [],
   "source": [
    "df.loc[ :, \"ord_2\"] = df.ord_2.map(mapping)"
   ]
  },
  {
   "cell_type": "code",
   "execution_count": 7,
   "metadata": {},
   "outputs": [
    {
     "data": {
      "text/plain": [
       "0.0    142726\n",
       "1.0    124239\n",
       "2.0     97822\n",
       "3.0     84790\n",
       "4.0     67508\n",
       "5.0     64840\n",
       "Name: ord_2, dtype: int64"
      ]
     },
     "execution_count": 7,
     "metadata": {},
     "output_type": "execute_result"
    }
   ],
   "source": [
    "#Value count after mapping\n",
    "df.ord_2.value_counts()"
   ]
  },
  {
   "cell_type": "code",
   "execution_count": 8,
   "metadata": {},
   "outputs": [
    {
     "data": {
      "text/plain": [
       "18075"
      ]
     },
     "execution_count": 8,
     "metadata": {},
     "output_type": "execute_result"
    }
   ],
   "source": [
    "df.ord_2.isnull().sum()"
   ]
  },
  {
   "cell_type": "markdown",
   "metadata": {},
   "source": [
    "This type of encoding of categorical vairbales is known as **Label Encoding** i.e encoding every category as a numerical label."
   ]
  },
  {
   "cell_type": "code",
   "execution_count": 9,
   "metadata": {},
   "outputs": [],
   "source": [
    "#LabelEncoder from scikit-learn.\n",
    "import pandas as pd\n",
    "from sklearn import preprocessing \n",
    "\n",
    "#read the data \n",
    "df = pd.read_csv(\"train.csv\")\n",
    "\n",
    "#fill NaN values in ord_2 column\n",
    "#df.loc[:,\"ord_2\"] = df.ord.fillna(\"NONE\")\n",
    "\n",
    "# initalize LabelEncoder\n",
    "df.loc[:,\"ord_2\"] = df.ord_2.fillna(\"NONE\")\n",
    "\n",
    "#initialize LabelEnocder\n",
    "lbl_enc = preprocessing.LabelEncoder()\n",
    "\n",
    "#fit label encoder and transfrom values on ord_2 column\n",
    "# P.S : do not use this directly. fit first, then transform\n",
    "df.loc[:,\"ord_2\"] = lbl_enc.fit_transform(df.ord_2.values)\n"
   ]
  },
  {
   "cell_type": "markdown",
   "metadata": {},
   "source": [
    "You first need to fillna from pandas cause LabelEncoder from scikit-learn does not handle NAN values and ord_2 column have NAN values."
   ]
  },
  {
   "cell_type": "markdown",
   "metadata": {},
   "source": [
    "**We can use Label Encoding directly in many tree-based models:**\n",
    "    * Decision trees\n",
    "    * Random forest\n",
    "    * Extra Trees\n",
    "    * Or any kind of boosted trees model\n",
    "         * XGBoost\n",
    "         * GBM\n",
    "         * LightGBM\n",
    "         \n",
    "This type of encoding cannot be used in linear models, SVM or neural network as they expect data to be **normalized**\n",
    "\n",
    "For these types of models, we can binarize the data."
   ]
  },
  {
   "cell_type": "markdown",
   "metadata": {},
   "source": [
    "* Freezing --> 0 --> 0 0 0 \n",
    "* Warm --> 1 --> 0 0 1 \n",
    "* Cold --> 2 --> 0 1 0\n",
    "* Boiling Hot --> 3 --> 0 1 1 \n",
    "* Hot --> 4 --> 1 0 0 \n",
    "* Lava Hot --> 5 --> 1 0 1 \n",
    "   \n",
    "   \n",
    "\n",
    "This is just converting the categories to numbers and then converting them to their binary representation.\n",
    "\n",
    "We are thus splitting one feature into three (in this case) features (or columns). If we have more categories, we might end up splitting into a lot more columns. \n",
    "\n",
    "It becomes easy to store lots of binarized variables like this if we store them in a **sparse format.** \n",
    "\n",
    "### sparse format\n",
    "A sparse format is nothing but a representation or way of storing data in memory in which you do not store all the values but only the values that matter. In the case of binary variables described above, all that matters is where we have ones (1s). It’s difficult to imagine a format like this but should become clear with an example. Let’s assume that we are provided with only one feature in the dataframe above:\n",
    "\n",
    "ord_2\n",
    "\n",
    "| Index | Feature \n",
    "| --- | --- | \n",
    "| 0 | Warm |\n",
    "| 1 | Hot  |\n",
    "| 2 | Lava hot |\n",
    "\n",
    "\n",
    "Currently, we are looking at only three samples in the daatset. Let's convert this to binary representation where we have three for each sample.\n",
    "\n",
    "These three items are the three features.\n",
    "\n",
    "| Index | Feature_0 | Feature_1 | Feature_2\n",
    "| --- | --- | --- | --- |\n",
    "| 0 | 0 | 0 | 1 |\n",
    "| 1 | 1 | 0 | 0 |\n",
    "| 2 | 1 | 0 | 1 |\n",
    "\n",
    "\n",
    "So, our feature are stored in a matrix which has 3 rows and 3 columns. Each element of matrix occupies 8 bytes. So, our total memory requirement for this array is 8x3x3 = 72 bytes\n",
    "\n",
    "We can also check this using python snippet."
   ]
  },
  {
   "cell_type": "code",
   "execution_count": 10,
   "metadata": {},
   "outputs": [
    {
     "name": "stdout",
     "output_type": "stream",
     "text": [
      "72\n"
     ]
    }
   ],
   "source": [
    "import numpy as np \n",
    "\n",
    "#create our example feature matrix \n",
    "example = np.array( [ [0, 0, 1], [1, 0, 0], [1, 0, 1] ] ) \n",
    "\n",
    "#print size in bytes \n",
    "\n",
    "print(example.nbytes)"
   ]
  },
  {
   "cell_type": "markdown",
   "metadata": {},
   "source": [
    "As mentioned before we are only interested in 1s. 0s are not that important because anything multiplied with 0 will be zero and 0 added/subtracted to/from anything doesn’t make any difference. One way to represent this matrix only with ones would be some kind of dictionary method in which keys are indices of rows and columns and value is 1:\n",
    "\n",
    "* (0, 2) 1 \n",
    "* (1, 0) 1 \n",
    "* (2, 0) 1 \n",
    "* (2, 2) 1 \n",
    "\n",
    "The total memory used will be 8x4 = 32 bytes.\n",
    "\n",
    "Any numpy array can be converted to a sparse matrix by simple python code."
   ]
  },
  {
   "cell_type": "code",
   "execution_count": 11,
   "metadata": {},
   "outputs": [
    {
     "name": "stdout",
     "output_type": "stream",
     "text": [
      "32\n"
     ]
    }
   ],
   "source": [
    "import numpy as np\n",
    "from scipy import sparse \n",
    "\n",
    "\n",
    "#create our example feature matrix\n",
    "\n",
    "example = np.array(\n",
    "    [\n",
    "     [0,0,1],\n",
    "     [1,0,0],\n",
    "     [1,0,1]   \n",
    "    ]\n",
    ")\n",
    "\n",
    "# convert numpy array to saprse CSR matrix \n",
    "sparse_example = sparse.csr_matrix(example)\n",
    "\n",
    "\n",
    "#print size of this sparse matrix \n",
    "print(sparse_example.data.nbytes)"
   ]
  },
  {
   "cell_type": "markdown",
   "metadata": {},
   "source": [
    "The total size of the sparse csr matrix is the sum of three values."
   ]
  },
  {
   "cell_type": "code",
   "execution_count": 12,
   "metadata": {},
   "outputs": [
    {
     "name": "stdout",
     "output_type": "stream",
     "text": [
      "64\n"
     ]
    }
   ],
   "source": [
    "print(\n",
    "    sparse_example.data.nbytes + \n",
    "    sparse_example.indptr.nbytes + \n",
    "    sparse_example.indices.nbytes\n",
    ")"
   ]
  },
  {
   "cell_type": "markdown",
   "metadata": {},
   "source": [
    "Even though the sparse representation of binarized features takes much less memory than its dense representation, there is another transformation for categorical variable that takes even less memory. That is known as **One Hot Encoding.**"
   ]
  }
 ],
 "metadata": {
  "kernelspec": {
   "display_name": "Python 3",
   "language": "python",
   "name": "python3"
  },
  "language_info": {
   "codemirror_mode": {
    "name": "ipython",
    "version": 3
   },
   "file_extension": ".py",
   "mimetype": "text/x-python",
   "name": "python",
   "nbconvert_exporter": "python",
   "pygments_lexer": "ipython3",
   "version": "3.7.6"
  }
 },
 "nbformat": 4,
 "nbformat_minor": 4
}
